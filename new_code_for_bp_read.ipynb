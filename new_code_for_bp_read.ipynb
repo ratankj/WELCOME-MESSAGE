{
 "cells": [
  {
   "cell_type": "code",
   "execution_count": 2,
   "metadata": {},
   "outputs": [],
   "source": [
    "import pandas as pd\n",
    "import os\n",
    "import shutil"
   ]
  },
  {
   "cell_type": "code",
   "execution_count": 3,
   "metadata": {},
   "outputs": [
    {
     "name": "stdout",
     "output_type": "stream",
     "text": [
      "Invoice data Aug'23.xlsb\n",
      "Invoice data Feb'23.xlsb\n",
      "Invoice data Jan'23.xlsb\n",
      "Invoice data July'23.xlsb\n",
      "Invoice data June'23.xlsb\n",
      "Invoice data Mar'23.xlsb\n",
      "Invoice data May'23.xlsb\n",
      "Invoice data Nov'23.xlsb\n",
      "Invoice data Oct'23.xlsb\n",
      "Invoice data Sep'23.xlsb\n",
      "IOM Dec'23.xlsb\n",
      "IOM Feb'24.xlsb\n",
      "IOM June'24.xlsb\n",
      "IOM Mar'24.xlsb\n",
      "IOM May'24.xlsb\n",
      "IOM'Jan 24.xlsb\n",
      "IOM_April'24.xlsb\n"
     ]
    }
   ],
   "source": [
    "path = r\"C:\\Users\\Ratan Kumar Jha\\Desktop\\23_24\"\n",
    "\n",
    "# Change the directory \n",
    "os.chdir(path) \n",
    "for file in os.listdir():\n",
    "\tprint(file) \n",
    "\t"
   ]
  },
  {
   "cell_type": "code",
   "execution_count": null,
   "metadata": {},
   "outputs": [],
   "source": []
  },
  {
   "cell_type": "code",
   "execution_count": 7,
   "metadata": {},
   "outputs": [
    {
     "name": "stdout",
     "output_type": "stream",
     "text": [
      "['SBPDCL', 'NBPDCL']\n"
     ]
    }
   ],
   "source": [
    "import pandas as pd\n",
    "\n",
    "# Load the .xlsb file\n",
    "file_path = r\"C:\\Users\\Ratan Kumar Jha\\Desktop\\23_24\\Invoice data Jan'23.xlsb\"\n",
    "xlsb_file = pd.ExcelFile(file_path, engine='pyxlsb')\n",
    "\n",
    "# Get the sheet names\n",
    "sheet_names = xlsb_file.sheet_names\n",
    "\n",
    "# Print the sheet names\n",
    "print(sheet_names)\n"
   ]
  },
  {
   "cell_type": "code",
   "execution_count": null,
   "metadata": {},
   "outputs": [],
   "source": []
  },
  {
   "cell_type": "code",
   "execution_count": 1,
   "metadata": {},
   "outputs": [
    {
     "name": "stdout",
     "output_type": "stream",
     "text": [
      "C:\\Users\\Ratan Kumar Jha\\Desktop\\23_24\\Invoice data Aug'23.xlsb\n",
      "Saved SBPDCL as C:\\Users\\Ratan Kumar Jha\\Desktop\\csv_23_24\\SBPDCL_Aug'23.csv\n",
      "Saved NBPDCL as C:\\Users\\Ratan Kumar Jha\\Desktop\\csv_23_24\\NBPDCL_Aug'23.csv\n",
      "C:\\Users\\Ratan Kumar Jha\\Desktop\\23_24\\Invoice data Feb'23.xlsb\n",
      "Saved SBPDCL as C:\\Users\\Ratan Kumar Jha\\Desktop\\csv_23_24\\SBPDCL_Feb'23.csv\n",
      "Saved NBPDCL as C:\\Users\\Ratan Kumar Jha\\Desktop\\csv_23_24\\NBPDCL_Feb'23.csv\n",
      "C:\\Users\\Ratan Kumar Jha\\Desktop\\23_24\\Invoice data Jan'23.xlsb\n",
      "Saved SBPDCL as C:\\Users\\Ratan Kumar Jha\\Desktop\\csv_23_24\\SBPDCL_Jan'23.csv\n",
      "Saved NBPDCL as C:\\Users\\Ratan Kumar Jha\\Desktop\\csv_23_24\\NBPDCL_Jan'23.csv\n",
      "C:\\Users\\Ratan Kumar Jha\\Desktop\\23_24\\Invoice data Jul'23.xlsb\n",
      "Saved SBPDCL as C:\\Users\\Ratan Kumar Jha\\Desktop\\csv_23_24\\SBPDCL_Jul'23.csv\n",
      "Saved NBPDCL as C:\\Users\\Ratan Kumar Jha\\Desktop\\csv_23_24\\NBPDCL_Jul'23.csv\n",
      "C:\\Users\\Ratan Kumar Jha\\Desktop\\23_24\\Invoice data Jun'23.xlsb\n",
      "Saved SBPDCL as C:\\Users\\Ratan Kumar Jha\\Desktop\\csv_23_24\\SBPDCL_Jun'23.csv\n",
      "Saved NBPDCL as C:\\Users\\Ratan Kumar Jha\\Desktop\\csv_23_24\\NBPDCL_Jun'23.csv\n",
      "C:\\Users\\Ratan Kumar Jha\\Desktop\\23_24\\Invoice data Mar'23.xlsb\n",
      "Saved SBPDCL as C:\\Users\\Ratan Kumar Jha\\Desktop\\csv_23_24\\SBPDCL_Mar'23.csv\n",
      "Saved NBPDCL as C:\\Users\\Ratan Kumar Jha\\Desktop\\csv_23_24\\NBPDCL_Mar'23.csv\n",
      "C:\\Users\\Ratan Kumar Jha\\Desktop\\23_24\\Invoice data May'23.xlsb\n",
      "Saved SBPDCL as C:\\Users\\Ratan Kumar Jha\\Desktop\\csv_23_24\\SBPDCL_May'23.csv\n",
      "Saved NBPDCL as C:\\Users\\Ratan Kumar Jha\\Desktop\\csv_23_24\\NBPDCL_May'23.csv\n",
      "C:\\Users\\Ratan Kumar Jha\\Desktop\\23_24\\Invoice data Nov'23.xlsb\n",
      "Saved SBPDCL as C:\\Users\\Ratan Kumar Jha\\Desktop\\csv_23_24\\SBPDCL_Nov'23.csv\n",
      "Saved NBPDCL as C:\\Users\\Ratan Kumar Jha\\Desktop\\csv_23_24\\NBPDCL_Nov'23.csv\n",
      "C:\\Users\\Ratan Kumar Jha\\Desktop\\23_24\\Invoice data Oct'23.xlsb\n",
      "Saved SBPDCL as C:\\Users\\Ratan Kumar Jha\\Desktop\\csv_23_24\\SBPDCL_Oct'23.csv\n",
      "Saved NBPDCL as C:\\Users\\Ratan Kumar Jha\\Desktop\\csv_23_24\\NBPDCL_Oct'23.csv\n",
      "C:\\Users\\Ratan Kumar Jha\\Desktop\\23_24\\Invoice data Sep'23.xlsb\n",
      "Saved SBPDCL as C:\\Users\\Ratan Kumar Jha\\Desktop\\csv_23_24\\SBPDCL_Sep'23.csv\n",
      "Saved NBPDCL as C:\\Users\\Ratan Kumar Jha\\Desktop\\csv_23_24\\NBPDCL_Sep'23.csv\n",
      "C:\\Users\\Ratan Kumar Jha\\Desktop\\23_24\\IOM Dec'23.xlsb\n",
      "Saved NBPDCL as C:\\Users\\Ratan Kumar Jha\\Desktop\\csv_23_24\\NBPDCL_Dec'23.csv\n",
      "Saved SBPDCL as C:\\Users\\Ratan Kumar Jha\\Desktop\\csv_23_24\\SBPDCL_Dec'23.csv\n",
      "C:\\Users\\Ratan Kumar Jha\\Desktop\\23_24\\IOM Feb'24.xlsb\n",
      "Saved SBPDCL as C:\\Users\\Ratan Kumar Jha\\Desktop\\csv_23_24\\SBPDCL_Feb'24.csv\n",
      "Saved NBPDCL as C:\\Users\\Ratan Kumar Jha\\Desktop\\csv_23_24\\NBPDCL_Feb'24.csv\n",
      "C:\\Users\\Ratan Kumar Jha\\Desktop\\23_24\\IOM Jun'24.xlsb\n",
      "Saved SBPDCL as C:\\Users\\Ratan Kumar Jha\\Desktop\\csv_23_24\\SBPDCL_Jun'24.csv\n",
      "Saved NBPDCL as C:\\Users\\Ratan Kumar Jha\\Desktop\\csv_23_24\\NBPDCL_Jun'24.csv\n",
      "C:\\Users\\Ratan Kumar Jha\\Desktop\\23_24\\IOM Mar'24.xlsb\n",
      "Saved SBPDCL as C:\\Users\\Ratan Kumar Jha\\Desktop\\csv_23_24\\SBPDCL_Mar'24.csv\n",
      "Saved NBPDCL as C:\\Users\\Ratan Kumar Jha\\Desktop\\csv_23_24\\NBPDCL_Mar'24.csv\n",
      "C:\\Users\\Ratan Kumar Jha\\Desktop\\23_24\\IOM May'24.xlsb\n",
      "Saved SBPDCL as C:\\Users\\Ratan Kumar Jha\\Desktop\\csv_23_24\\SBPDCL_May'24.csv\n",
      "Saved NBPDCL as C:\\Users\\Ratan Kumar Jha\\Desktop\\csv_23_24\\NBPDCL_May'24.csv\n",
      "C:\\Users\\Ratan Kumar Jha\\Desktop\\23_24\\IOM'Jan 24.xlsb\n",
      "Saved NBPDCL as C:\\Users\\Ratan Kumar Jha\\Desktop\\csv_23_24\\NBPDCL_Jan 24.csv\n",
      "Saved SBPDCL as C:\\Users\\Ratan Kumar Jha\\Desktop\\csv_23_24\\SBPDCL_Jan 24.csv\n",
      "C:\\Users\\Ratan Kumar Jha\\Desktop\\23_24\\IOM_Apr'24.xlsb\n",
      "Saved SBPDCL as C:\\Users\\Ratan Kumar Jha\\Desktop\\csv_23_24\\SBPDCL_Apr'24.csv\n",
      "Saved NBPDCL as C:\\Users\\Ratan Kumar Jha\\Desktop\\csv_23_24\\NBPDCL_Apr'24.csv\n",
      "All sheets have been converted and saved.\n"
     ]
    }
   ],
   "source": [
    "import pandas as pd\n",
    "import os\n",
    "\n",
    "# Define the paths\n",
    "path = r\"C:\\Users\\Ratan Kumar Jha\\Desktop\\23_24\"\n",
    "output_dir = r\"C:\\Users\\Ratan Kumar Jha\\Desktop\\csv_23_24\"\n",
    "\n",
    "# Change the directory \n",
    "os.chdir(path) \n",
    "for file in os.listdir():\n",
    "    bp_read_file_path = os.path.join(path, file)\n",
    "    print(bp_read_file_path)\n",
    "    \n",
    "    # Extract the relevant part of the filename\n",
    "    file_identifier = file[-11:-5]\n",
    "    \n",
    "    xlsb_file = pd.ExcelFile(bp_read_file_path, engine='pyxlsb')\n",
    "    sheet_names = xlsb_file.sheet_names\n",
    "\n",
    "    os.makedirs(output_dir, exist_ok=True)\n",
    "\n",
    "    for sheet_name in sheet_names:\n",
    "        # Read the sheet into a DataFrame\n",
    "        df = pd.read_excel(bp_read_file_path, sheet_name=sheet_name, engine='pyxlsb')\n",
    "        \n",
    "        # Define the output file path, incorporating the file identifier\n",
    "        output_file = os.path.join(output_dir, f\"{sheet_name}_{file_identifier}.csv\")\n",
    "\n",
    "        # Save the DataFrame as a CSV file\n",
    "        df.to_csv(output_file, index=False)\n",
    "\n",
    "        print(f\"Saved {sheet_name} as {output_file}\")\n",
    "\n",
    "print(\"All sheets have been converted and saved.\")\n"
   ]
  },
  {
   "cell_type": "code",
   "execution_count": null,
   "metadata": {},
   "outputs": [],
   "source": []
  },
  {
   "cell_type": "markdown",
   "metadata": {},
   "source": [
    "### data cleaning"
   ]
  },
  {
   "cell_type": "code",
   "execution_count": null,
   "metadata": {},
   "outputs": [],
   "source": [
    "#yyyy-mm-dd hh:mm:ss"
   ]
  },
  {
   "cell_type": "code",
   "execution_count": 8,
   "metadata": {},
   "outputs": [
    {
     "name": "stdout",
     "output_type": "stream",
     "text": [
      "NBPDCL_Apr_24.csv\n",
      "NBPDCL_Aug_23.csv\n",
      "NBPDCL_Dec_23.csv\n",
      "NBPDCL_Feb_23.csv\n",
      "NBPDCL_Feb_24.csv\n",
      "NBPDCL_Jan 24.csv\n",
      "NBPDCL_Jan_23.csv\n",
      "NBPDCL_Jul_23.csv\n",
      "NBPDCL_Jun_23.csv\n",
      "NBPDCL_Jun_24.csv\n",
      "NBPDCL_Mar_23.csv\n",
      "NBPDCL_Mar_24.csv\n",
      "NBPDCL_May_23.csv\n",
      "NBPDCL_May_24.csv\n",
      "NBPDCL_Nov_23.csv\n",
      "NBPDCL_Oct_23.csv\n",
      "NBPDCL_Sep_23.csv\n",
      "SBPDCL_Apr_24.csv\n",
      "SBPDCL_Aug_23.csv\n",
      "SBPDCL_Dec_23.csv\n",
      "SBPDCL_Feb_23.csv\n",
      "SBPDCL_Feb_24.csv\n",
      "SBPDCL_Jan 24.csv\n",
      "SBPDCL_Jan_23.csv\n",
      "SBPDCL_Jul_23.csv\n",
      "SBPDCL_Jun_23.csv\n",
      "SBPDCL_Jun_24.csv\n",
      "SBPDCL_Mar_23.csv\n",
      "SBPDCL_Mar_24.csv\n",
      "SBPDCL_May_23.csv\n",
      "SBPDCL_May_24.csv\n",
      "SBPDCL_Nov_23.csv\n",
      "SBPDCL_Oct_23.csv\n",
      "SBPDCL_Sep_23.csv\n"
     ]
    }
   ],
   "source": [
    "import os\n",
    "\n",
    "# Define the path\n",
    "path = r\"C:\\Users\\Ratan Kumar Jha\\Desktop\\csv_23_24\"\n",
    "\n",
    "# Change the directory\n",
    "os.chdir(path)\n",
    "\n",
    "# Loop through each file in the directory\n",
    "for file in os.listdir():\n",
    "\n",
    "    corrected_file = file.replace(\"'\", \"_\")\n",
    "\n",
    "    if corrected_file != file:\n",
    "        os.rename(file, corrected_file)\n",
    "\n",
    "    print(corrected_file)\n"
   ]
  },
  {
   "cell_type": "code",
   "execution_count": 19,
   "metadata": {},
   "outputs": [
    {
     "name": "stdout",
     "output_type": "stream",
     "text": [
      "Processed and updated file: NBPDCL_Apr_24.csv\n",
      "Processed and updated file: NBPDCL_Aug_23.csv\n",
      "Processed and updated file: NBPDCL_Dec_23.csv\n",
      "Processed and updated file: NBPDCL_Feb_23.csv\n",
      "Processed and updated file: NBPDCL_Feb_24.csv\n",
      "Processed and updated file: NBPDCL_Jan 24.csv\n",
      "Processed and updated file: NBPDCL_Jan_23.csv\n",
      "Processed and updated file: NBPDCL_Jul_23.csv\n",
      "Processed and updated file: NBPDCL_Jun_23.csv\n"
     ]
    },
    {
     "name": "stderr",
     "output_type": "stream",
     "text": [
      "C:\\Users\\Ratan Kumar Jha\\AppData\\Local\\Temp\\ipykernel_624\\84031593.py:16: DtypeWarning: Columns (4) have mixed types. Specify dtype option on import or set low_memory=False.\n",
      "  new_csv = pd.read_csv(data_frame)\n"
     ]
    },
    {
     "name": "stdout",
     "output_type": "stream",
     "text": [
      "Processed and updated file: NBPDCL_Jun_24.csv\n",
      "Processed and updated file: NBPDCL_Mar_23.csv\n",
      "Processed and updated file: NBPDCL_Mar_24.csv\n",
      "Processed and updated file: NBPDCL_May_23.csv\n"
     ]
    },
    {
     "name": "stderr",
     "output_type": "stream",
     "text": [
      "C:\\Users\\Ratan Kumar Jha\\AppData\\Local\\Temp\\ipykernel_624\\84031593.py:16: DtypeWarning: Columns (4) have mixed types. Specify dtype option on import or set low_memory=False.\n",
      "  new_csv = pd.read_csv(data_frame)\n"
     ]
    },
    {
     "name": "stdout",
     "output_type": "stream",
     "text": [
      "Processed and updated file: NBPDCL_May_24.csv\n"
     ]
    },
    {
     "name": "stderr",
     "output_type": "stream",
     "text": [
      "C:\\Users\\Ratan Kumar Jha\\AppData\\Local\\Temp\\ipykernel_624\\84031593.py:16: DtypeWarning: Columns (0) have mixed types. Specify dtype option on import or set low_memory=False.\n",
      "  new_csv = pd.read_csv(data_frame)\n"
     ]
    },
    {
     "name": "stdout",
     "output_type": "stream",
     "text": [
      "Processed and updated file: NBPDCL_Nov_23.csv\n",
      "Processed and updated file: NBPDCL_Oct_23.csv\n",
      "Processed and updated file: NBPDCL_Sep_23.csv\n",
      "Processed and updated file: SBPDCL_Apr_24.csv\n",
      "Processed and updated file: SBPDCL_Aug_23.csv\n",
      "Processed and updated file: SBPDCL_Dec_23.csv\n",
      "Processed and updated file: SBPDCL_Feb_23.csv\n",
      "Processed and updated file: SBPDCL_Feb_24.csv\n",
      "Processed and updated file: SBPDCL_Jan 24.csv\n",
      "Processed and updated file: SBPDCL_Jan_23.csv\n",
      "Processed and updated file: SBPDCL_Jul_23.csv\n",
      "Processed and updated file: SBPDCL_Jun_23.csv\n"
     ]
    },
    {
     "name": "stderr",
     "output_type": "stream",
     "text": [
      "C:\\Users\\Ratan Kumar Jha\\AppData\\Local\\Temp\\ipykernel_624\\84031593.py:16: DtypeWarning: Columns (4) have mixed types. Specify dtype option on import or set low_memory=False.\n",
      "  new_csv = pd.read_csv(data_frame)\n"
     ]
    },
    {
     "name": "stdout",
     "output_type": "stream",
     "text": [
      "Processed and updated file: SBPDCL_Jun_24.csv\n",
      "Processed and updated file: SBPDCL_Mar_23.csv\n",
      "Processed and updated file: SBPDCL_Mar_24.csv\n"
     ]
    },
    {
     "name": "stderr",
     "output_type": "stream",
     "text": [
      "C:\\Users\\Ratan Kumar Jha\\AppData\\Local\\Temp\\ipykernel_624\\84031593.py:16: DtypeWarning: Columns (1,3) have mixed types. Specify dtype option on import or set low_memory=False.\n",
      "  new_csv = pd.read_csv(data_frame)\n"
     ]
    },
    {
     "name": "stdout",
     "output_type": "stream",
     "text": [
      "Processed and updated file: SBPDCL_May_23.csv\n"
     ]
    },
    {
     "name": "stderr",
     "output_type": "stream",
     "text": [
      "C:\\Users\\Ratan Kumar Jha\\AppData\\Local\\Temp\\ipykernel_624\\84031593.py:16: DtypeWarning: Columns (4) have mixed types. Specify dtype option on import or set low_memory=False.\n",
      "  new_csv = pd.read_csv(data_frame)\n"
     ]
    },
    {
     "name": "stdout",
     "output_type": "stream",
     "text": [
      "Processed and updated file: SBPDCL_May_24.csv\n",
      "Processed and updated file: SBPDCL_Nov_23.csv\n",
      "Processed and updated file: SBPDCL_Oct_23.csv\n",
      "Processed and updated file: SBPDCL_Sep_23.csv\n",
      "All files have been processed.\n"
     ]
    }
   ],
   "source": [
    "import os\n",
    "import pandas as pd\n",
    "\n",
    "# Define the path\n",
    "path = r\"C:\\Users\\Ratan Kumar Jha\\Desktop\\csv_23_24\"\n",
    "\n",
    "# Change the directory\n",
    "os.chdir(path)\n",
    "\n",
    "# Loop through each file in the directory\n",
    "for file in os.listdir():\n",
    "    # Construct the full file path\n",
    "    data_frame = os.path.join(path, file)\n",
    "    \n",
    "    # Read the CSV file into a DataFrame\n",
    "    new_csv = pd.read_csv(data_frame)\n",
    "    \n",
    "    # Delete the 'Read Date' and 'Meter Make' columns if they exist\n",
    "    new_csv = new_csv.drop(columns=['Read Date', 'Meter Make'], errors='ignore')\n",
    "    \n",
    "    # Save the modified DataFrame back to the CSV file\n",
    "    new_csv.to_csv(data_frame, index=False)\n",
    "    \n",
    "    print(f\"Processed and updated file: {file}\")\n",
    "\n",
    "print(\"All files have been processed.\")\n"
   ]
  },
  {
   "cell_type": "code",
   "execution_count": null,
   "metadata": {},
   "outputs": [],
   "source": []
  },
  {
   "cell_type": "code",
   "execution_count": null,
   "metadata": {},
   "outputs": [],
   "source": [
    "# replace in column 'Billable' with 'Received'  and 'Non Billable' with 'Non Received'  in Remarks column"
   ]
  },
  {
   "cell_type": "code",
   "execution_count": 28,
   "metadata": {},
   "outputs": [
    {
     "name": "stdout",
     "output_type": "stream",
     "text": [
      "Processed and updated file: NBPDCL_Apr_24.csv\n",
      "Processed and updated file: NBPDCL_Feb_24.csv\n",
      "Processed and updated file: NBPDCL_Jan 24.csv\n"
     ]
    },
    {
     "name": "stderr",
     "output_type": "stream",
     "text": [
      "C:\\Users\\Ratan Kumar Jha\\AppData\\Local\\Temp\\ipykernel_624\\4270742.py:16: DtypeWarning: Columns (3) have mixed types. Specify dtype option on import or set low_memory=False.\n",
      "  new_csv = pd.read_csv(data_frame)\n"
     ]
    },
    {
     "name": "stdout",
     "output_type": "stream",
     "text": [
      "Processed and updated file: NBPDCL_Jun_24.csv\n",
      "Processed and updated file: NBPDCL_Mar_24.csv\n"
     ]
    },
    {
     "name": "stderr",
     "output_type": "stream",
     "text": [
      "C:\\Users\\Ratan Kumar Jha\\AppData\\Local\\Temp\\ipykernel_624\\4270742.py:16: DtypeWarning: Columns (3) have mixed types. Specify dtype option on import or set low_memory=False.\n",
      "  new_csv = pd.read_csv(data_frame)\n"
     ]
    },
    {
     "name": "stdout",
     "output_type": "stream",
     "text": [
      "Processed and updated file: NBPDCL_May_24.csv\n",
      "All files have been processed.\n"
     ]
    }
   ],
   "source": [
    "import os\n",
    "import pandas as pd\n",
    "\n",
    "# Define the path\n",
    "path = r\"C:\\Users\\Ratan Kumar Jha\\Desktop\\csv_23_24\\nb_24\"\n",
    "\n",
    "# Change the directory\n",
    "os.chdir(path)\n",
    "\n",
    "# Loop through each file in the directory\n",
    "for file in os.listdir():\n",
    "    # Construct the full file path\n",
    "    data_frame = os.path.join(path, file)\n",
    "    \n",
    "    # Read the CSV file into a DataFrame\n",
    "    new_csv = pd.read_csv(data_frame)\n",
    "    \n",
    "    # Drop the 'Read Date' and 'Meter Make' columns if they exist\n",
    "    new_csv = new_csv.drop(columns=['Read Date', 'Meter Make','BP_DATE','INSERT_TIME'], errors='ignore')\n",
    "    \n",
    "    # Replace 'Billable' with 'Received' and 'Non Billable' with 'Non Received' in the 'Remarks' column\n",
    "    new_csv['Remarks'] = new_csv['Remarks'].replace({'Billable': 'Received', 'Non Billable': 'Non Received'})\n",
    "    #new_csv['Remarks'] = new_csv['Remarks'].replace({'Non-Billable': 'Non Received'})\n",
    "    # Save the modified DataFrame back to the CSV file\n",
    "    new_csv.to_csv(data_frame, index=False)\n",
    "    \n",
    "    print(f\"Processed and updated file: {file}\")\n",
    "\n",
    "print(\"All files have been processed.\")\n"
   ]
  },
  {
   "cell_type": "code",
   "execution_count": null,
   "metadata": {},
   "outputs": [],
   "source": []
  },
  {
   "cell_type": "code",
   "execution_count": 29,
   "metadata": {},
   "outputs": [
    {
     "data": {
      "text/html": [
       "<div>\n",
       "<style scoped>\n",
       "    .dataframe tbody tr th:only-of-type {\n",
       "        vertical-align: middle;\n",
       "    }\n",
       "\n",
       "    .dataframe tbody tr th {\n",
       "        vertical-align: top;\n",
       "    }\n",
       "\n",
       "    .dataframe thead th {\n",
       "        text-align: right;\n",
       "    }\n",
       "</style>\n",
       "<table border=\"1\" class=\"dataframe\">\n",
       "  <thead>\n",
       "    <tr style=\"text-align: right;\">\n",
       "      <th></th>\n",
       "      <th>UTILITY</th>\n",
       "      <th>INSTALLATIONNO</th>\n",
       "      <th>METERNO</th>\n",
       "      <th>CONSUMERNO</th>\n",
       "      <th>InstallationDate</th>\n",
       "      <th>Remarks</th>\n",
       "      <th>Category</th>\n",
       "      <th>Division</th>\n",
       "      <th>Phase</th>\n",
       "      <th>Category Type</th>\n",
       "    </tr>\n",
       "  </thead>\n",
       "  <tbody>\n",
       "    <tr>\n",
       "      <th>0</th>\n",
       "      <td>SBPDCL</td>\n",
       "      <td>PHUN-12589</td>\n",
       "      <td>GOEGP4875493</td>\n",
       "      <td>2.161003e+10</td>\n",
       "      <td>43703</td>\n",
       "      <td>Non Received</td>\n",
       "      <td>IAS1</td>\n",
       "      <td>PATNA</td>\n",
       "      <td>1 Phase</td>\n",
       "      <td>Agriculture</td>\n",
       "    </tr>\n",
       "    <tr>\n",
       "      <th>1</th>\n",
       "      <td>SBPDCL</td>\n",
       "      <td>ARWARL6055</td>\n",
       "      <td>LNTLT0581598</td>\n",
       "      <td>2.323001e+10</td>\n",
       "      <td>44706</td>\n",
       "      <td>Received</td>\n",
       "      <td>NDS2D</td>\n",
       "      <td>ARWAL</td>\n",
       "      <td>1 Phase</td>\n",
       "      <td>End to End</td>\n",
       "    </tr>\n",
       "    <tr>\n",
       "      <th>2</th>\n",
       "      <td>SBPDCL</td>\n",
       "      <td>ARWARL7614</td>\n",
       "      <td>LNTLT0425351</td>\n",
       "      <td>2.323001e+10</td>\n",
       "      <td>44650</td>\n",
       "      <td>Received</td>\n",
       "      <td>NDS2D</td>\n",
       "      <td>ARWAL</td>\n",
       "      <td>1 Phase</td>\n",
       "      <td>End to End</td>\n",
       "    </tr>\n",
       "    <tr>\n",
       "      <th>3</th>\n",
       "      <td>SBPDCL</td>\n",
       "      <td>ARL19278</td>\n",
       "      <td>LNTLT0149502</td>\n",
       "      <td>2.323005e+10</td>\n",
       "      <td>44543</td>\n",
       "      <td>Received</td>\n",
       "      <td>NDS2D</td>\n",
       "      <td>ARWAL</td>\n",
       "      <td>1 Phase</td>\n",
       "      <td>End to End</td>\n",
       "    </tr>\n",
       "    <tr>\n",
       "      <th>4</th>\n",
       "      <td>SBPDCL</td>\n",
       "      <td>ARL20092</td>\n",
       "      <td>LNTLT0292249</td>\n",
       "      <td>2.323006e+10</td>\n",
       "      <td>44622</td>\n",
       "      <td>Received</td>\n",
       "      <td>NDS2D</td>\n",
       "      <td>ARWAL</td>\n",
       "      <td>1 Phase</td>\n",
       "      <td>End to End</td>\n",
       "    </tr>\n",
       "  </tbody>\n",
       "</table>\n",
       "</div>"
      ],
      "text/plain": [
       "  UTILITY INSTALLATIONNO       METERNO    CONSUMERNO  InstallationDate  \\\n",
       "0  SBPDCL     PHUN-12589  GOEGP4875493  2.161003e+10             43703   \n",
       "1  SBPDCL     ARWARL6055  LNTLT0581598  2.323001e+10             44706   \n",
       "2  SBPDCL     ARWARL7614  LNTLT0425351  2.323001e+10             44650   \n",
       "3  SBPDCL       ARL19278  LNTLT0149502  2.323005e+10             44543   \n",
       "4  SBPDCL       ARL20092  LNTLT0292249  2.323006e+10             44622   \n",
       "\n",
       "        Remarks Category Division    Phase Category Type  \n",
       "0  Non Received     IAS1    PATNA  1 Phase   Agriculture  \n",
       "1      Received    NDS2D    ARWAL  1 Phase    End to End  \n",
       "2      Received    NDS2D    ARWAL  1 Phase    End to End  \n",
       "3      Received    NDS2D    ARWAL  1 Phase    End to End  \n",
       "4      Received    NDS2D    ARWAL  1 Phase    End to End  "
      ]
     },
     "execution_count": 29,
     "metadata": {},
     "output_type": "execute_result"
    }
   ],
   "source": [
    "data = pd.read_csv(r\"C:\\Users\\Ratan Kumar Jha\\Desktop\\csv_23_24\\sb_24\\SBPDCL_Apr_24.csv\")\n",
    "data.head()"
   ]
  },
  {
   "cell_type": "code",
   "execution_count": null,
   "metadata": {},
   "outputs": [],
   "source": []
  },
  {
   "cell_type": "code",
   "execution_count": null,
   "metadata": {},
   "outputs": [],
   "source": []
  }
 ],
 "metadata": {
  "kernelspec": {
   "display_name": "Python 3",
   "language": "python",
   "name": "python3"
  },
  "language_info": {
   "codemirror_mode": {
    "name": "ipython",
    "version": 3
   },
   "file_extension": ".py",
   "mimetype": "text/x-python",
   "name": "python",
   "nbconvert_exporter": "python",
   "pygments_lexer": "ipython3",
   "version": "3.9.19"
  }
 },
 "nbformat": 4,
 "nbformat_minor": 2
}
