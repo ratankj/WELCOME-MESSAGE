{
 "cells": [
  {
   "cell_type": "code",
   "execution_count": null,
   "metadata": {},
   "outputs": [],
   "source": []
  },
  {
   "cell_type": "code",
   "execution_count": null,
   "metadata": {},
   "outputs": [],
   "source": [
    "from datetime import datetime, timedelta\n",
    "import os\n",
    "\n",
    "import shutil\n",
    "import pandas as pd\n",
    "import os\n",
    "import win32com.client\n",
    "\n",
    "\n",
    "import csv\n",
    "import openpyxl\n",
    "from extract_msg import Message\n",
    "\n"
   ]
  },
  {
   "cell_type": "code",
   "execution_count": null,
   "metadata": {},
   "outputs": [],
   "source": []
  },
  {
   "cell_type": "markdown",
   "metadata": {},
   "source": [
    "# Download the latest data from the mail"
   ]
  },
  {
   "cell_type": "code",
   "execution_count": 13,
   "metadata": {},
   "outputs": [
    {
     "name": "stdout",
     "output_type": "stream",
     "text": [
      "Daily Monitoring Report_Bihar 16-09-24\n",
      "Sender email: /O=EXCHANGELABS/OU=EXCHANGE ADMINISTRATIVE GROUP (FYDIBOHF23SPDLT)/CN=RECIPIENTS/CN=FB00EC2697EC4335AF2A90D28BE67749-ASHUTOSH1\n",
      "Welcome Msg Not Sent Data_16-09-24.xlsx\n",
      "DOWNLOAD:  Attachment Welcome Msg Not Sent Data_16-09-24.xlsx from Daily Monitoring Report_Bihar 16-09-24 saved.\n",
      "Daily monitoring report_Bihar 16-09-24.xlsb\n",
      "image003.png\n",
      "image004.png\n"
     ]
    }
   ],
   "source": [
    "import os\n",
    "import win32com.client\n",
    "\n",
    "def save_attachments_from_latest_email(folder_name, save_path, sender_email):\n",
    "    # Create Outlook application object\n",
    "    outlook = win32com.client.Dispatch(\"Outlook.Application\").GetNamespace(\"MAPI\")\n",
    "    \n",
    "    # Access the account\n",
    "    account = outlook.Folders.Item(\"ratan.jha@edfin-india.com\")\n",
    "    \n",
    "    # Select the folder within the account\n",
    "    inbox = account.Folders.Item(\"Welcome msg\")\n",
    "    \n",
    "    # Sort the messages by received time in descending order\n",
    "    messages = inbox.Items\n",
    "    messages.Sort(\"[ReceivedTime]\", True)  # True indicates descending order\n",
    "   \n",
    "    # Loop through messages\n",
    "    for message in messages:\n",
    "        print(message)\n",
    "        if message.Class == 43:  \n",
    "            try:\n",
    "                sender_email_address = message.SenderEmailAddress\n",
    "            except AttributeError:\n",
    "                try:\n",
    "                    sender_email_address = message.Sender.Address\n",
    "                except AttributeError:\n",
    "                    print(\"Sender email address not found.\")\n",
    "                    continue\n",
    "            print(f\"Sender email: {sender_email_address}\")\n",
    "            \n",
    "            if sender_email_address.lower() == sender_email.lower():\n",
    "                attachments = message.Attachments\n",
    "                \n",
    "                for attachment in attachments:\n",
    "                    # Check attachment file extension\n",
    "                    print(attachment.FileName)\n",
    "                    if attachment.FileName.lower().endswith(('.xlsx', '.csv', '.zip')):\n",
    "                        # Save attachment\n",
    "                        attachment.SaveAsFile(os.path.join(save_path, attachment.FileName))\n",
    "                        print(f\"DOWNLOAD:  Attachment {attachment.FileName} from {message.Subject} saved.\")\n",
    "                        \n",
    "                # Process only the latest email\n",
    "                break\n",
    "\n",
    "# Define the folder name, save path, and sender email address\n",
    "folder_name = \"DOWNLOAD_MAIL_DATA\"\n",
    "save_path = r\"C:\\Users\\Ratan Kumar Jha\\Desktop\\welcome msg\\DOWNLOAD_MAIL_DATA\"\n",
    "sender_email = \"/O=EXCHANGELABS/OU=EXCHANGE ADMINISTRATIVE GROUP (FYDIBOHF23SPDLT)/CN=RECIPIENTS/CN=FB00EC2697EC4335AF2A90D28BE67749-ASHUTOSH1\"\n",
    "# \"Ashutosh 1 <ashutosh1@edfin-india.com>\"\n",
    "# Call the function\n",
    "save_attachments_from_latest_email(folder_name, save_path, sender_email)\n"
   ]
  },
  {
   "cell_type": "code",
   "execution_count": null,
   "metadata": {},
   "outputs": [],
   "source": []
  },
  {
   "cell_type": "code",
   "execution_count": null,
   "metadata": {},
   "outputs": [],
   "source": [
    "#"
   ]
  },
  {
   "cell_type": "markdown",
   "metadata": {},
   "source": [
    "## create the current month folder in welcome data extracted folder, if already not existed"
   ]
  },
  {
   "cell_type": "code",
   "execution_count": 24,
   "metadata": {},
   "outputs": [
    {
     "name": "stdout",
     "output_type": "stream",
     "text": [
      "Sep\n"
     ]
    }
   ],
   "source": [
    "from datetime import datetime, timedelta\n",
    "import os\n",
    "\n",
    "import shutil\n",
    "import pandas as pd\n",
    "\n",
    "\n",
    "#--------------------------------------------------------------------\n",
    "\n",
    "## this code of line will give the month NAME\n",
    "## HERE WORKING ON YESTERDAY BCZ  LAST DAY OF MONTH FILE COME ON FIRST DAY OF NEW MONTH\n",
    "# 2 OCT WILL REFLECT AS 1 OCT.  AND THEN NEW \n",
    "\n",
    "today = datetime.now()\n",
    "yesterday = today - timedelta(days=1)\n",
    "new_folder_name = yesterday.strftime('%b') \n",
    "\n",
    "print(new_folder_name)\n",
    "\n",
    "#--------------------------------------------------------------------\n",
    "\n",
    "# THIS CODE IS FOR WELCOME DATA EXTRACTED\n",
    "\n",
    "folder_path = r\"C:\\Users\\Ratan Kumar Jha\\Desktop\\welcome msg\\WELCOME DATA EXTRACTED\"\n",
    "folder_path_for_WELCOME_DATA_EXTRACTED =  os.path.join(folder_path,new_folder_name)\n",
    "# Create the new folder\n",
    "if not os.path.exists(folder_path_for_WELCOME_DATA_EXTRACTED):\n",
    "    os.makedirs(folder_path_for_WELCOME_DATA_EXTRACTED)\n"
   ]
  },
  {
   "cell_type": "code",
   "execution_count": null,
   "metadata": {},
   "outputs": [],
   "source": []
  },
  {
   "cell_type": "code",
   "execution_count": null,
   "metadata": {},
   "outputs": [],
   "source": []
  },
  {
   "cell_type": "markdown",
   "metadata": {},
   "source": [
    "## Move the curretn file from   DOWNLOAD_MAIL_DATA to  WELCOME DATA EXTRACTED"
   ]
  },
  {
   "cell_type": "code",
   "execution_count": 23,
   "metadata": {},
   "outputs": [
    {
     "name": "stdout",
     "output_type": "stream",
     "text": [
      "Welcome Msg Not Sent Data_16-09-24.xlsx\n",
      "Sep\n",
      "Moved: Welcome Msg Not Sent Data_16-09-24.xlsx\n"
     ]
    }
   ],
   "source": [
    "import os\n",
    "import shutil\n",
    "from datetime import datetime\n",
    "\n",
    "\n",
    "\n",
    "file_path = r'C:\\Users\\Ratan Kumar Jha\\Desktop\\welcome msg\\DOWNLOAD_MAIL_DATA'\n",
    "output_path = r'C:\\Users\\Ratan Kumar Jha\\Desktop\\welcome msg\\WELCOME DATA EXTRACTED'\n",
    "\n",
    "for file in os.listdir(file_path):\n",
    "    if file.endswith('.xlsx'):\n",
    "        print(file)\n",
    "        date= file[-13:-5]\n",
    "        print(date)\n",
    "        date_object = datetime.strptime(date, \"%d-%m-%y\")\n",
    "        month_name = date_object.strftime('%b')\n",
    "        print(month_name)\n",
    "        output_folder_path_final = os.path.join(output_path,month_name)\n",
    "        full_file_path = os.path.join(file_path, file)\n",
    "        shutil.move(full_file_path, output_folder_path_final)\n",
    "        print(f\"Moved: {file}\")"
   ]
  },
  {
   "cell_type": "code",
   "execution_count": null,
   "metadata": {},
   "outputs": [],
   "source": []
  },
  {
   "cell_type": "markdown",
   "metadata": {},
   "source": [
    "## This will read the .xlsx file  and convert it into .csv file   and the read the file and concate all the file into one csv file"
   ]
  },
  {
   "cell_type": "code",
   "execution_count": null,
   "metadata": {},
   "outputs": [],
   "source": []
  },
  {
   "cell_type": "code",
   "execution_count": 25,
   "metadata": {},
   "outputs": [
    {
     "name": "stdout",
     "output_type": "stream",
     "text": [
      "Sep\n",
      "Welcome Msg Not Sent Data_01-09-24.xlsx\n",
      "C:\\Users\\Ratan Kumar Jha\\Desktop\\welcome msg\\WELCOME_MSG_OUTPUT\\Sep\\Welcome Msg Not Sent Data_01-09-24.csv\n",
      "Welcome Msg Not Sent Data_02-09-24.xlsx\n",
      "C:\\Users\\Ratan Kumar Jha\\Desktop\\welcome msg\\WELCOME_MSG_OUTPUT\\Sep\\Welcome Msg Not Sent Data_02-09-24.csv\n",
      "Welcome Msg Not Sent Data_03-09-24.xlsx\n",
      "C:\\Users\\Ratan Kumar Jha\\Desktop\\welcome msg\\WELCOME_MSG_OUTPUT\\Sep\\Welcome Msg Not Sent Data_03-09-24.csv\n",
      "Welcome Msg Not Sent Data_04-09-24.xlsx\n",
      "C:\\Users\\Ratan Kumar Jha\\Desktop\\welcome msg\\WELCOME_MSG_OUTPUT\\Sep\\Welcome Msg Not Sent Data_04-09-24.csv\n",
      "Welcome Msg Not Sent Data_05-09-24.xlsx\n",
      "C:\\Users\\Ratan Kumar Jha\\Desktop\\welcome msg\\WELCOME_MSG_OUTPUT\\Sep\\Welcome Msg Not Sent Data_05-09-24.csv\n",
      "Welcome Msg Not Sent Data_06-09-24.xlsx\n",
      "C:\\Users\\Ratan Kumar Jha\\Desktop\\welcome msg\\WELCOME_MSG_OUTPUT\\Sep\\Welcome Msg Not Sent Data_06-09-24.csv\n",
      "Welcome Msg Not Sent Data_08-09-24.xlsx\n",
      "C:\\Users\\Ratan Kumar Jha\\Desktop\\welcome msg\\WELCOME_MSG_OUTPUT\\Sep\\Welcome Msg Not Sent Data_08-09-24.csv\n",
      "Welcome Msg Not Sent Data_09-09-24.xlsx\n",
      "C:\\Users\\Ratan Kumar Jha\\Desktop\\welcome msg\\WELCOME_MSG_OUTPUT\\Sep\\Welcome Msg Not Sent Data_09-09-24.csv\n",
      "Welcome Msg Not Sent Data_10-09-24.xlsx\n",
      "C:\\Users\\Ratan Kumar Jha\\Desktop\\welcome msg\\WELCOME_MSG_OUTPUT\\Sep\\Welcome Msg Not Sent Data_10-09-24.csv\n",
      "Welcome Msg Not Sent Data_12-09-24.xlsx\n",
      "C:\\Users\\Ratan Kumar Jha\\Desktop\\welcome msg\\WELCOME_MSG_OUTPUT\\Sep\\Welcome Msg Not Sent Data_12-09-24.csv\n",
      "Welcome Msg Not Sent Data_13-09-24.xlsx\n",
      "C:\\Users\\Ratan Kumar Jha\\Desktop\\welcome msg\\WELCOME_MSG_OUTPUT\\Sep\\Welcome Msg Not Sent Data_13-09-24.csv\n",
      "Welcome Msg Not Sent Data_15-09-24.xlsx\n",
      "C:\\Users\\Ratan Kumar Jha\\Desktop\\welcome msg\\WELCOME_MSG_OUTPUT\\Sep\\Welcome Msg Not Sent Data_15-09-24.csv\n",
      "Welcome Msg Not Sent Data_16-09-24.xlsx\n",
      "C:\\Users\\Ratan Kumar Jha\\Desktop\\welcome msg\\WELCOME_MSG_OUTPUT\\Sep\\Welcome Msg Not Sent Data_16-09-24.csv\n",
      "Concatenation completed and saved to: C:\\Users\\Ratan Kumar Jha\\Desktop\\welcome msg\\WELCOME_MSG_OUTPUT\\concatenated_data_Sep.csv\n"
     ]
    }
   ],
   "source": [
    "from datetime import datetime, timedelta\n",
    "import os\n",
    "import os\n",
    "import csv\n",
    "import openpyxl\n",
    "from extract_msg import Message\n",
    "import shutil\n",
    "import pandas as pd\n",
    "\n",
    "\n",
    "#--------------------------------------------------------------------\n",
    "\n",
    "## this code of line will give the month NAME\n",
    "## HERE WORKING ON YESTERDAY BCZ  LAST DAY OF MONTH FILE COME ON FIRST DAY OF NEW MONTH\n",
    "# 2 OCT WILL REFLECT AS 1 OCT.  AND THEN NEW \n",
    "\n",
    "today = datetime.now()\n",
    "yesterday = today - timedelta(days=1)\n",
    "new_folder_name = yesterday.strftime('%b') \n",
    "\n",
    "print(new_folder_name)\n",
    "\n",
    "#--------------------------------------------------------------------\n",
    "\n",
    "# THIS CODE IS FOR WELCOME DATA EXTRACTED\n",
    "\n",
    "folder_path = r\"C:\\Users\\Ratan Kumar Jha\\Desktop\\welcome msg\\WELCOME DATA EXTRACTED\"\n",
    "folder_path_for_WELCOME_DATA_EXTRACTED =  os.path.join(folder_path,new_folder_name)\n",
    "# Create the new folder\n",
    "if not os.path.exists(folder_path_for_WELCOME_DATA_EXTRACTED):\n",
    "    os.makedirs(folder_path_for_WELCOME_DATA_EXTRACTED)\n",
    "\n",
    "\n",
    "# THIS CODE IS FOR WELCOME MSG OUTPUT FOLDER\n",
    "\n",
    "base_path = r\"C:\\Users\\Ratan Kumar Jha\\Desktop\\welcome msg\\WELCOME_MSG_OUTPUT\"\n",
    "new_folder_path = os.path.join(base_path,new_folder_name)\n",
    "\n",
    "\n",
    "# Create the new folder\n",
    "if not os.path.exists(new_folder_path):\n",
    "    os.makedirs(new_folder_path)\n",
    "\n",
    "\n",
    "\n",
    "\n",
    "# Initialize an empty list to store DataFrames\n",
    "dfs = []\n",
    "\n",
    "\n",
    "# -------------------------------------------------------------------------------------------------\n",
    "for filename in os.listdir(folder_path_for_WELCOME_DATA_EXTRACTED):\n",
    "    print(filename)\n",
    "    if filename.endswith(\".xlsx\"):\n",
    "        file_path_name = os.path.join(folder_path_for_WELCOME_DATA_EXTRACTED, filename)\n",
    "        read_excel_Data=pd.read_excel(file_path_name,sheet_name=1)\n",
    "        # Specify the path where CSV file should be saved\n",
    "        csv_file_path = os.path.join(new_folder_path, filename.replace(\".xlsx\", \".csv\"))\n",
    "        # Save DataFrame to CSV\n",
    "        print(csv_file_path)\n",
    "        read_excel_Data.to_csv(csv_file_path, index=False)\n",
    "        dfs.append(read_excel_Data)\n",
    "\n",
    "\n",
    "        \n",
    "# Concatenate all DataFrames in the list along the rows\n",
    "concatenated_df = pd.concat(dfs, ignore_index=True)\n",
    "\n",
    "concatened_data = \"concatenated_data_\" + new_folder_name +  \".csv\"\n",
    "\n",
    "# change this sep month data as well\n",
    "output_csv_path = os.path.join(base_path, concatened_data)\n",
    "\n",
    "# Save the concatenated DataFrame to a CSV file\n",
    "concatenated_df.to_csv(output_csv_path, index=False)\n",
    "\n",
    "print(\"Concatenation completed and saved to:\", output_csv_path)"
   ]
  },
  {
   "cell_type": "code",
   "execution_count": null,
   "metadata": {},
   "outputs": [],
   "source": []
  },
  {
   "cell_type": "code",
   "execution_count": null,
   "metadata": {},
   "outputs": [],
   "source": []
  },
  {
   "cell_type": "code",
   "execution_count": null,
   "metadata": {},
   "outputs": [],
   "source": []
  }
 ],
 "metadata": {
  "kernelspec": {
   "display_name": "Python 3",
   "language": "python",
   "name": "python3"
  },
  "language_info": {
   "codemirror_mode": {
    "name": "ipython",
    "version": 3
   },
   "file_extension": ".py",
   "mimetype": "text/x-python",
   "name": "python",
   "nbconvert_exporter": "python",
   "pygments_lexer": "ipython3",
   "version": "3.9.19"
  }
 },
 "nbformat": 4,
 "nbformat_minor": 2
}
