{
 "cells": [
  {
   "cell_type": "code",
   "execution_count": null,
   "metadata": {},
   "outputs": [],
   "source": []
  },
  {
   "cell_type": "code",
   "execution_count": null,
   "metadata": {},
   "outputs": [],
   "source": []
  },
  {
   "cell_type": "code",
   "execution_count": null,
   "metadata": {},
   "outputs": [],
   "source": []
  },
  {
   "cell_type": "markdown",
   "metadata": {},
   "source": [
    "### Before run this code. \n",
    "\n",
    "### copy data from the welcome folder month and then create a new folder with month name in WELCOME DATA EXTRACTED folder than run this code"
   ]
  },
  {
   "cell_type": "code",
   "execution_count": null,
   "metadata": {},
   "outputs": [],
   "source": [
    "## steps:\n",
    "\n",
    "# 1. create a month folder\n",
    "# 2. copy all the mail data in this folder"
   ]
  },
  {
   "cell_type": "code",
   "execution_count": 1,
   "metadata": {},
   "outputs": [
    {
     "name": "stdout",
     "output_type": "stream",
     "text": [
      "Welcome Msg Not Sent Data_01-09-24.xlsx\n",
      "Welcome Msg Not Sent Data_02-09-24.xlsx\n",
      "Welcome Msg Not Sent Data_03-09-24.xlsx\n",
      "Welcome Msg Not Sent Data_04-09-24.xlsx\n",
      "Welcome Msg Not Sent Data_05-09-24.xlsx\n",
      "Welcome Msg Not Sent Data_06-09-24.xlsx\n",
      "Welcome Msg Not Sent Data_08-09-24.xlsx\n",
      "Welcome Msg Not Sent Data_09-09-24.xlsx\n",
      "Welcome Msg Not Sent Data_10-09-24.xlsx\n",
      "Welcome Msg Not Sent Data_12-09-24.xlsx\n",
      "Welcome Msg Not Sent Data_13-09-24.xlsx\n",
      "Welcome Msg Not Sent Data_15-09-24.xlsx\n"
     ]
    }
   ],
   "source": [
    "import pandas as pd\n",
    "\n",
    "import os\n",
    "import csv\n",
    "import openpyxl\n",
    "from extract_msg import Message\n",
    "import shutil\n",
    "\n",
    "# Set the path to the folder containing MSG files\n",
    "folder_path = r\"C:\\Users\\Ratan Kumar Jha\\Desktop\\welcome msg\\WELCOME DATA EXTRACTED\\Sep\"\n",
    "\n",
    "# -------------------------------------------------------------------------------------------------\n",
    "base_path = r'C:\\Users\\Ratan Kumar Jha\\Desktop\\welcome msg\\WELCOME_MSG_OUTPUT'\n",
    "new_folder_name = 'Sep'\n",
    "new_folder_path = os.path.join(base_path,new_folder_name)\n",
    "\n",
    "\n",
    "if not os.path.exists(new_folder_path):\n",
    "    os.makedirs(new_folder_path)\n",
    "\n",
    "# -------------------------------------------------------------------------------------------------\n",
    "for filename in os.listdir(folder_path):\n",
    "    print(filename)\n",
    "    if filename.endswith(\".xlsx\"):\n",
    "        file_path_name = os.path.join(folder_path, filename)\n",
    "        read_excel_Data=pd.read_excel(file_path_name,sheet_name=1)\n",
    "        # Specify the path where CSV file should be saved\n",
    "        csv_file_path = os.path.join(new_folder_path, filename.replace(\".xlsx\", \".csv\"))\n",
    "        # Save DataFrame to CSV\n",
    "        read_excel_Data.to_csv(csv_file_path, index=False)\n",
    "        \n",
    "\n",
    "        \n",
    "\n"
   ]
  },
  {
   "cell_type": "code",
   "execution_count": null,
   "metadata": {},
   "outputs": [],
   "source": []
  },
  {
   "cell_type": "code",
   "execution_count": null,
   "metadata": {},
   "outputs": [],
   "source": [
    "# new_folder_name = 'Sep' \n",
    "\n",
    "## change the new folder name for next month"
   ]
  },
  {
   "cell_type": "markdown",
   "metadata": {},
   "source": [
    "### this code will convert excel into csv file and than concat the data into a single file"
   ]
  },
  {
   "cell_type": "code",
   "execution_count": 2,
   "metadata": {},
   "outputs": [
    {
     "name": "stdout",
     "output_type": "stream",
     "text": [
      "Welcome Msg Not Sent Data_01-09-24.xlsx\n",
      "C:\\Users\\Ratan Kumar Jha\\Desktop\\welcome msg\\WELCOME_MSG_OUTPUT\\Sep\\Welcome Msg Not Sent Data_01-09-24.csv\n",
      "Welcome Msg Not Sent Data_02-09-24.xlsx\n",
      "C:\\Users\\Ratan Kumar Jha\\Desktop\\welcome msg\\WELCOME_MSG_OUTPUT\\Sep\\Welcome Msg Not Sent Data_02-09-24.csv\n",
      "Welcome Msg Not Sent Data_03-09-24.xlsx\n",
      "C:\\Users\\Ratan Kumar Jha\\Desktop\\welcome msg\\WELCOME_MSG_OUTPUT\\Sep\\Welcome Msg Not Sent Data_03-09-24.csv\n",
      "Welcome Msg Not Sent Data_04-09-24.xlsx\n",
      "C:\\Users\\Ratan Kumar Jha\\Desktop\\welcome msg\\WELCOME_MSG_OUTPUT\\Sep\\Welcome Msg Not Sent Data_04-09-24.csv\n",
      "Welcome Msg Not Sent Data_05-09-24.xlsx\n",
      "C:\\Users\\Ratan Kumar Jha\\Desktop\\welcome msg\\WELCOME_MSG_OUTPUT\\Sep\\Welcome Msg Not Sent Data_05-09-24.csv\n",
      "Welcome Msg Not Sent Data_06-09-24.xlsx\n",
      "C:\\Users\\Ratan Kumar Jha\\Desktop\\welcome msg\\WELCOME_MSG_OUTPUT\\Sep\\Welcome Msg Not Sent Data_06-09-24.csv\n",
      "Welcome Msg Not Sent Data_08-09-24.xlsx\n",
      "C:\\Users\\Ratan Kumar Jha\\Desktop\\welcome msg\\WELCOME_MSG_OUTPUT\\Sep\\Welcome Msg Not Sent Data_08-09-24.csv\n",
      "Welcome Msg Not Sent Data_09-09-24.xlsx\n",
      "C:\\Users\\Ratan Kumar Jha\\Desktop\\welcome msg\\WELCOME_MSG_OUTPUT\\Sep\\Welcome Msg Not Sent Data_09-09-24.csv\n",
      "Welcome Msg Not Sent Data_10-09-24.xlsx\n",
      "C:\\Users\\Ratan Kumar Jha\\Desktop\\welcome msg\\WELCOME_MSG_OUTPUT\\Sep\\Welcome Msg Not Sent Data_10-09-24.csv\n",
      "Welcome Msg Not Sent Data_12-09-24.xlsx\n",
      "C:\\Users\\Ratan Kumar Jha\\Desktop\\welcome msg\\WELCOME_MSG_OUTPUT\\Sep\\Welcome Msg Not Sent Data_12-09-24.csv\n",
      "Welcome Msg Not Sent Data_13-09-24.xlsx\n",
      "C:\\Users\\Ratan Kumar Jha\\Desktop\\welcome msg\\WELCOME_MSG_OUTPUT\\Sep\\Welcome Msg Not Sent Data_13-09-24.csv\n",
      "Welcome Msg Not Sent Data_15-09-24.xlsx\n",
      "C:\\Users\\Ratan Kumar Jha\\Desktop\\welcome msg\\WELCOME_MSG_OUTPUT\\Sep\\Welcome Msg Not Sent Data_15-09-24.csv\n",
      "Concatenation completed and saved to: C:\\Users\\Ratan Kumar Jha\\Desktop\\welcome msg\\WELCOME_MSG_OUTPUT\\concatenated_data_Sep.csv\n"
     ]
    }
   ],
   "source": [
    "import os\n",
    "import csv\n",
    "import openpyxl\n",
    "from extract_msg import Message\n",
    "import shutil\n",
    "import pandas as pd\n",
    "\n",
    "# Set the path to the folder containing MSG files\n",
    "folder_path = r\"C:\\Users\\Ratan Kumar Jha\\Desktop\\welcome msg\\WELCOME DATA EXTRACTED\\Sep\"\n",
    "\n",
    "# -------------------------------------------------------------------------------------------------\n",
    "base_path = r'C:\\Users\\Ratan Kumar Jha\\Desktop\\welcome msg\\WELCOME_MSG_OUTPUT'\n",
    "new_folder_name = 'Sep'\n",
    "new_folder_path = os.path.join(base_path,new_folder_name)\n",
    "\n",
    "\n",
    "\n",
    "# Create the new folder\n",
    "if not os.path.exists(new_folder_path):\n",
    "    os.makedirs(new_folder_path)\n",
    "\n",
    "\n",
    "\n",
    "# Initialize an empty list to store DataFrames\n",
    "dfs = []\n",
    "\n",
    "\n",
    "# -------------------------------------------------------------------------------------------------\n",
    "for filename in os.listdir(folder_path):\n",
    "    print(filename)\n",
    "    if filename.endswith(\".xlsx\"):\n",
    "        file_path_name = os.path.join(folder_path, filename)\n",
    "        read_excel_Data=pd.read_excel(file_path_name,sheet_name=1)\n",
    "        # Specify the path where CSV file should be saved\n",
    "        csv_file_path = os.path.join(new_folder_path, filename.replace(\".xlsx\", \".csv\"))\n",
    "        # Save DataFrame to CSV\n",
    "        print(csv_file_path)\n",
    "        read_excel_Data.to_csv(csv_file_path, index=False)\n",
    "        dfs.append(read_excel_Data)\n",
    "\n",
    "\n",
    "        \n",
    "# Concatenate all DataFrames in the list along the rows\n",
    "concatenated_df = pd.concat(dfs, ignore_index=True)\n",
    "\n",
    "# Specify the path where the concatenated CSV file should be saved\n",
    "\n",
    "# change this sep month data as well\n",
    "output_csv_path = os.path.join(base_path, \"concatenated_data_Sep.csv\")\n",
    "\n",
    "# Save the concatenated DataFrame to a CSV file\n",
    "concatenated_df.to_csv(output_csv_path, index=False)\n",
    "\n",
    "print(\"Concatenation completed and saved to:\", output_csv_path)\n",
    "\n"
   ]
  },
  {
   "cell_type": "code",
   "execution_count": null,
   "metadata": {},
   "outputs": [],
   "source": []
  },
  {
   "cell_type": "code",
   "execution_count": 12,
   "metadata": {},
   "outputs": [
    {
     "name": "stdout",
     "output_type": "stream",
     "text": [
      "Sep\n"
     ]
    }
   ],
   "source": [
    "from datetime import datetime, timedelta\n",
    "\n",
    "today = datetime.now()\n",
    "yesterday = today - timedelta(days=1)\n",
    "new_folder_name = yesterday.strftime('%b') \n",
    "print(new_folder_name)\n",
    "\n",
    "folder_path = r\"C:\\Users\\Ratan Kumar Jha\\Desktop\\welcome msg\\test\"\n"
   ]
  }
 ],
 "metadata": {
  "kernelspec": {
   "display_name": "Python 3",
   "language": "python",
   "name": "python3"
  },
  "language_info": {
   "codemirror_mode": {
    "name": "ipython",
    "version": 3
   },
   "file_extension": ".py",
   "mimetype": "text/x-python",
   "name": "python",
   "nbconvert_exporter": "python",
   "pygments_lexer": "ipython3",
   "version": "3.9.19"
  }
 },
 "nbformat": 4,
 "nbformat_minor": 2
}
