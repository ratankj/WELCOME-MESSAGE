{
 "cells": [
  {
   "cell_type": "code",
   "execution_count": 5,
   "metadata": {},
   "outputs": [],
   "source": [
    "import pandas as pd\n",
    "#pd.set_option('display.max_rows', None)"
   ]
  },
  {
   "cell_type": "code",
   "execution_count": 6,
   "metadata": {},
   "outputs": [],
   "source": [
    "welcome_message_data = pd.read_csv(r\"C:\\Users\\Ratan Kumar Jha\\Desktop\\welcome msg\\ANALYSIS OUTPUT\\FINAL_DATA\\FINAL_DATA_ALL_MERGE_MISSING_DAYS_COUNT.csv\")\n",
    "welcome_message_data.drop(['Unnamed: 0'],axis=1, inplace=True)\n",
    "pd.set_option('display.max_columns', None)"
   ]
  },
  {
   "cell_type": "code",
   "execution_count": 7,
   "metadata": {},
   "outputs": [
    {
     "data": {
      "text/html": [
       "<div>\n",
       "<style scoped>\n",
       "    .dataframe tbody tr th:only-of-type {\n",
       "        vertical-align: middle;\n",
       "    }\n",
       "\n",
       "    .dataframe tbody tr th {\n",
       "        vertical-align: top;\n",
       "    }\n",
       "\n",
       "    .dataframe thead th {\n",
       "        text-align: right;\n",
       "    }\n",
       "</style>\n",
       "<table border=\"1\" class=\"dataframe\">\n",
       "  <thead>\n",
       "    <tr style=\"text-align: right;\">\n",
       "      <th></th>\n",
       "      <th>Consumer ID</th>\n",
       "      <th>installation_number</th>\n",
       "      <th>New Meter No</th>\n",
       "      <th>Meter Replacement</th>\n",
       "      <th>Aging_Creation_Date</th>\n",
       "      <th>Detailed_Remarks</th>\n",
       "      <th>Utility Name</th>\n",
       "      <th>Replacement Date</th>\n",
       "      <th>Aging</th>\n",
       "      <th>Bucket</th>\n",
       "      <th>Bucket1</th>\n",
       "      <th>Category Name</th>\n",
       "      <th>Aging_Creation_Date_BACKDATE</th>\n",
       "      <th>Year-Week</th>\n",
       "      <th>Week</th>\n",
       "      <th>Month</th>\n",
       "      <th>Agging_bucket_30</th>\n",
       "      <th>Resolved Cases</th>\n",
       "      <th>Count</th>\n",
       "      <th>lead_status</th>\n",
       "      <th>lead_date</th>\n",
       "      <th>meter_aging</th>\n",
       "    </tr>\n",
       "  </thead>\n",
       "  <tbody>\n",
       "    <tr>\n",
       "      <th>1236868</th>\n",
       "      <td>5004153649</td>\n",
       "      <td>5004153649</td>\n",
       "      <td>LT8007292</td>\n",
       "      <td>NaN</td>\n",
       "      <td>2024-07-18</td>\n",
       "      <td>Work Order Not Closed</td>\n",
       "      <td>SBPD</td>\n",
       "      <td>2024-07-16</td>\n",
       "      <td>2</td>\n",
       "      <td>0 - 03</td>\n",
       "      <td>02 - 03</td>\n",
       "      <td>NDS-IID(B)</td>\n",
       "      <td>2024-07-14</td>\n",
       "      <td>2024-28</td>\n",
       "      <td>29</td>\n",
       "      <td>7</td>\n",
       "      <td>&lt;=30</td>\n",
       "      <td>0</td>\n",
       "      <td>1</td>\n",
       "      <td>Work Order Not Closed</td>\n",
       "      <td>2024-07-19</td>\n",
       "      <td>1</td>\n",
       "    </tr>\n",
       "  </tbody>\n",
       "</table>\n",
       "</div>"
      ],
      "text/plain": [
       "         Consumer ID installation_number New Meter No Meter Replacement  \\\n",
       "1236868   5004153649          5004153649    LT8007292               NaN   \n",
       "\n",
       "        Aging_Creation_Date       Detailed_Remarks Utility Name  \\\n",
       "1236868          2024-07-18  Work Order Not Closed         SBPD   \n",
       "\n",
       "        Replacement Date  Aging  Bucket  Bucket1 Category Name  \\\n",
       "1236868       2024-07-16      2  0 - 03  02 - 03    NDS-IID(B)   \n",
       "\n",
       "        Aging_Creation_Date_BACKDATE Year-Week  Week  Month Agging_bucket_30  \\\n",
       "1236868                   2024-07-14   2024-28    29      7             <=30   \n",
       "\n",
       "         Resolved Cases  Count            lead_status   lead_date  meter_aging  \n",
       "1236868               0      1  Work Order Not Closed  2024-07-19            1  "
      ]
     },
     "execution_count": 7,
     "metadata": {},
     "output_type": "execute_result"
    }
   ],
   "source": [
    "welcome_message_data.sample(1)"
   ]
  },
  {
   "cell_type": "code",
   "execution_count": 8,
   "metadata": {},
   "outputs": [
    {
     "data": {
      "text/plain": [
       "Index(['Consumer ID', 'installation_number', 'New Meter No',\n",
       "       'Meter Replacement', 'Aging_Creation_Date', 'Detailed_Remarks',\n",
       "       'Utility Name', 'Replacement Date', 'Aging', 'Bucket', 'Bucket1',\n",
       "       'Category Name', 'Aging_Creation_Date_BACKDATE', 'Year-Week', 'Week',\n",
       "       'Month', 'Agging_bucket_30', 'Resolved Cases', 'Count', 'lead_status',\n",
       "       'lead_date', 'meter_aging'],\n",
       "      dtype='object')"
      ]
     },
     "execution_count": 8,
     "metadata": {},
     "output_type": "execute_result"
    }
   ],
   "source": [
    "welcome_message_data.columns"
   ]
  },
  {
   "cell_type": "code",
   "execution_count": 9,
   "metadata": {},
   "outputs": [],
   "source": [
    "welcome_message_data.drop(['Consumer ID',\n",
    "        'Meter Replacement',\n",
    "        'Utility Name', 'Replacement Date', \n",
    "        'Bucket',\n",
    "       'Bucket1', 'Category Name', \n",
    "       'Aging_Creation_Date_BACKDATE', 'Year-Week', 'Week',\n",
    "       'Month','Agging_bucket_30','Resolved Cases','Count','lead_status','lead_date','Aging'],axis=1, inplace=True)\n",
    "\n",
    "\n",
    "# this will sort the meter and aging_Creation_date\n",
    "welcome_message_data = welcome_message_data.sort_values(['New Meter No', 'Aging_Creation_Date'], ascending=[True, True])"
   ]
  },
  {
   "cell_type": "code",
   "execution_count": 10,
   "metadata": {},
   "outputs": [],
   "source": [
    "# after partition or group by we did lead of detailed remark\n",
    "\n",
    "welcome_message_data['lead_Detailed_remark'] = welcome_message_data.groupby('New Meter No')['Detailed_Remarks'].shift(-1)"
   ]
  },
  {
   "cell_type": "code",
   "execution_count": 12,
   "metadata": {},
   "outputs": [
    {
     "data": {
      "text/html": [
       "<div>\n",
       "<style scoped>\n",
       "    .dataframe tbody tr th:only-of-type {\n",
       "        vertical-align: middle;\n",
       "    }\n",
       "\n",
       "    .dataframe tbody tr th {\n",
       "        vertical-align: top;\n",
       "    }\n",
       "\n",
       "    .dataframe thead th {\n",
       "        text-align: right;\n",
       "    }\n",
       "</style>\n",
       "<table border=\"1\" class=\"dataframe\">\n",
       "  <thead>\n",
       "    <tr style=\"text-align: right;\">\n",
       "      <th></th>\n",
       "      <th>installation_number</th>\n",
       "      <th>New Meter No</th>\n",
       "      <th>Aging_Creation_Date</th>\n",
       "      <th>Detailed_Remarks</th>\n",
       "      <th>meter_aging</th>\n",
       "      <th>lead_Detailed_remark</th>\n",
       "    </tr>\n",
       "  </thead>\n",
       "  <tbody>\n",
       "    <tr>\n",
       "      <th>0</th>\n",
       "      <td>5004017369</td>\n",
       "      <td>GL8548353</td>\n",
       "      <td>2024-02-23</td>\n",
       "      <td>Work Order Not Closed</td>\n",
       "      <td>1</td>\n",
       "      <td>Installed in MDM but CA not Assigned from DISCOM</td>\n",
       "    </tr>\n",
       "    <tr>\n",
       "      <th>1</th>\n",
       "      <td>5004017369</td>\n",
       "      <td>GL8548353</td>\n",
       "      <td>2024-02-24</td>\n",
       "      <td>Installed in MDM but CA not Assigned from DISCOM</td>\n",
       "      <td>2</td>\n",
       "      <td>NMI Success, AMR Not \"Y\", MR Success and DP Re...</td>\n",
       "    </tr>\n",
       "    <tr>\n",
       "      <th>2</th>\n",
       "      <td>5004017369</td>\n",
       "      <td>GL8548353</td>\n",
       "      <td>2024-02-26</td>\n",
       "      <td>NMI Success, AMR Not \"Y\", MR Success and DP Re...</td>\n",
       "      <td>1</td>\n",
       "      <td>NMI Success, AMR Not \"Y\", MR Success and DP Re...</td>\n",
       "    </tr>\n",
       "  </tbody>\n",
       "</table>\n",
       "</div>"
      ],
      "text/plain": [
       "  installation_number New Meter No Aging_Creation_Date  \\\n",
       "0          5004017369    GL8548353          2024-02-23   \n",
       "1          5004017369    GL8548353          2024-02-24   \n",
       "2          5004017369    GL8548353          2024-02-26   \n",
       "\n",
       "                                    Detailed_Remarks  meter_aging  \\\n",
       "0                              Work Order Not Closed            1   \n",
       "1   Installed in MDM but CA not Assigned from DISCOM            2   \n",
       "2  NMI Success, AMR Not \"Y\", MR Success and DP Re...            1   \n",
       "\n",
       "                                lead_Detailed_remark  \n",
       "0   Installed in MDM but CA not Assigned from DISCOM  \n",
       "1  NMI Success, AMR Not \"Y\", MR Success and DP Re...  \n",
       "2  NMI Success, AMR Not \"Y\", MR Success and DP Re...  "
      ]
     },
     "execution_count": 12,
     "metadata": {},
     "output_type": "execute_result"
    }
   ],
   "source": [
    "welcome_message_data.head(3)"
   ]
  },
  {
   "cell_type": "code",
   "execution_count": 13,
   "metadata": {},
   "outputs": [],
   "source": [
    "import pandas as pd\n",
    "\n",
    "output_list = []\n",
    "\n",
    "for meter, group in welcome_message_data.groupby('New Meter No'):\n",
    "    sum_meter_aging = 0  \n",
    "\n",
    "    for i in range(len(group)):\n",
    "        starting_remark = group['Detailed_Remarks'].iloc[i]\n",
    "        lead_remark = group['lead_Detailed_remark'].iloc[i]\n",
    "        meter_aging_value = group['meter_aging'].iloc[i]\n",
    "\n",
    "        if starting_remark != lead_remark:\n",
    "            sum_meter_aging += meter_aging_value  \n",
    "            date = group['Aging_Creation_Date'].iloc[i]  \n",
    "            output_list.append({\n",
    "                'meter_no': meter,\n",
    "                'date': date,\n",
    "                'Detailed_Remark': starting_remark,\n",
    "                'Sum_meter_aging': sum_meter_aging\n",
    "            })\n",
    "        \n",
    "            sum_meter_aging = 0\n",
    "        else:\n",
    "          \n",
    "            sum_meter_aging += meter_aging_value  \n",
    "           \n",
    "\n",
    "# Convert to DataFrame\n",
    "output_df = pd.DataFrame(output_list)\n",
    "\n",
    "# Print the DataFrame\n",
    "#print(output_df)\n"
   ]
  },
  {
   "cell_type": "code",
   "execution_count": null,
   "metadata": {},
   "outputs": [],
   "source": []
  },
  {
   "cell_type": "code",
   "execution_count": 14,
   "metadata": {},
   "outputs": [
    {
     "data": {
      "text/html": [
       "<div>\n",
       "<style scoped>\n",
       "    .dataframe tbody tr th:only-of-type {\n",
       "        vertical-align: middle;\n",
       "    }\n",
       "\n",
       "    .dataframe tbody tr th {\n",
       "        vertical-align: top;\n",
       "    }\n",
       "\n",
       "    .dataframe thead th {\n",
       "        text-align: right;\n",
       "    }\n",
       "</style>\n",
       "<table border=\"1\" class=\"dataframe\">\n",
       "  <thead>\n",
       "    <tr style=\"text-align: right;\">\n",
       "      <th></th>\n",
       "      <th>meter_no</th>\n",
       "      <th>date</th>\n",
       "      <th>Detailed_Remark</th>\n",
       "      <th>Sum_meter_aging</th>\n",
       "    </tr>\n",
       "  </thead>\n",
       "  <tbody>\n",
       "    <tr>\n",
       "      <th>0</th>\n",
       "      <td>GL8548353</td>\n",
       "      <td>2024-02-23</td>\n",
       "      <td>Work Order Not Closed</td>\n",
       "      <td>1</td>\n",
       "    </tr>\n",
       "    <tr>\n",
       "      <th>1</th>\n",
       "      <td>GL8548353</td>\n",
       "      <td>2024-02-24</td>\n",
       "      <td>Installed in MDM but CA not Assigned from DISCOM</td>\n",
       "      <td>2</td>\n",
       "    </tr>\n",
       "    <tr>\n",
       "      <th>2</th>\n",
       "      <td>GL8548353</td>\n",
       "      <td>2024-02-28</td>\n",
       "      <td>NMI Success, AMR Not \"Y\", MR Success and DP Re...</td>\n",
       "      <td>3</td>\n",
       "    </tr>\n",
       "    <tr>\n",
       "      <th>3</th>\n",
       "      <td>GL8548353</td>\n",
       "      <td>2024-02-29</td>\n",
       "      <td>NMI Success, AMR Not \"Y\", MR Success and DP No...</td>\n",
       "      <td>1</td>\n",
       "    </tr>\n",
       "    <tr>\n",
       "      <th>4</th>\n",
       "      <td>GL8548353</td>\n",
       "      <td>2024-03-02</td>\n",
       "      <td>Communicating not \"Y\" in MDM</td>\n",
       "      <td>2</td>\n",
       "    </tr>\n",
       "  </tbody>\n",
       "</table>\n",
       "</div>"
      ],
      "text/plain": [
       "    meter_no        date                                    Detailed_Remark  \\\n",
       "0  GL8548353  2024-02-23                              Work Order Not Closed   \n",
       "1  GL8548353  2024-02-24   Installed in MDM but CA not Assigned from DISCOM   \n",
       "2  GL8548353  2024-02-28  NMI Success, AMR Not \"Y\", MR Success and DP Re...   \n",
       "3  GL8548353  2024-02-29  NMI Success, AMR Not \"Y\", MR Success and DP No...   \n",
       "4  GL8548353  2024-03-02                       Communicating not \"Y\" in MDM   \n",
       "\n",
       "   Sum_meter_aging  \n",
       "0                1  \n",
       "1                2  \n",
       "2                3  \n",
       "3                1  \n",
       "4                2  "
      ]
     },
     "execution_count": 14,
     "metadata": {},
     "output_type": "execute_result"
    }
   ],
   "source": [
    "output_df.head()"
   ]
  },
  {
   "cell_type": "code",
   "execution_count": 15,
   "metadata": {},
   "outputs": [],
   "source": [
    "output_df.to_csv(r\"C:\\Users\\Ratan Kumar Jha\\Desktop\\welcome msg\\ANALYSIS OUTPUT\\FINAL_DATA\\output_df.csv\")"
   ]
  },
  {
   "cell_type": "code",
   "execution_count": 18,
   "metadata": {},
   "outputs": [
    {
     "data": {
      "text/plain": [
       "(419478, 4)"
      ]
     },
     "execution_count": 18,
     "metadata": {},
     "output_type": "execute_result"
    }
   ],
   "source": [
    "output_df.shape"
   ]
  },
  {
   "cell_type": "code",
   "execution_count": 19,
   "metadata": {},
   "outputs": [],
   "source": [
    "import pandas as pd\n",
    "\n",
    "\n",
    "last_rows = output_df.groupby('meter_no').last().reset_index()\n",
    "\n",
    "last_rows.to_csv(r\"C:\\Users\\Ratan Kumar Jha\\Desktop\\welcome msg\\ANALYSIS OUTPUT\\FINAL_DATA\\last_rows.csv\")\n"
   ]
  },
  {
   "cell_type": "code",
   "execution_count": 20,
   "metadata": {},
   "outputs": [
    {
     "data": {
      "text/html": [
       "<div>\n",
       "<style scoped>\n",
       "    .dataframe tbody tr th:only-of-type {\n",
       "        vertical-align: middle;\n",
       "    }\n",
       "\n",
       "    .dataframe tbody tr th {\n",
       "        vertical-align: top;\n",
       "    }\n",
       "\n",
       "    .dataframe thead th {\n",
       "        text-align: right;\n",
       "    }\n",
       "</style>\n",
       "<table border=\"1\" class=\"dataframe\">\n",
       "  <thead>\n",
       "    <tr style=\"text-align: right;\">\n",
       "      <th></th>\n",
       "      <th>meter_no</th>\n",
       "      <th>date</th>\n",
       "      <th>Detailed_Remark</th>\n",
       "      <th>Sum_meter_aging</th>\n",
       "    </tr>\n",
       "  </thead>\n",
       "  <tbody>\n",
       "    <tr>\n",
       "      <th>0</th>\n",
       "      <td>GL8548353</td>\n",
       "      <td>2024-03-02</td>\n",
       "      <td>Communicating not \"Y\" in MDM</td>\n",
       "      <td>2</td>\n",
       "    </tr>\n",
       "    <tr>\n",
       "      <th>1</th>\n",
       "      <td>GL8548461</td>\n",
       "      <td>2024-04-03</td>\n",
       "      <td>Communicating not \"Y\" in MDM</td>\n",
       "      <td>1</td>\n",
       "    </tr>\n",
       "  </tbody>\n",
       "</table>\n",
       "</div>"
      ],
      "text/plain": [
       "    meter_no        date               Detailed_Remark  Sum_meter_aging\n",
       "0  GL8548353  2024-03-02  Communicating not \"Y\" in MDM                2\n",
       "1  GL8548461  2024-04-03  Communicating not \"Y\" in MDM                1"
      ]
     },
     "execution_count": 20,
     "metadata": {},
     "output_type": "execute_result"
    }
   ],
   "source": [
    "last_rows.head(2)"
   ]
  },
  {
   "cell_type": "code",
   "execution_count": 16,
   "metadata": {},
   "outputs": [
    {
     "data": {
      "text/html": [
       "<div>\n",
       "<style scoped>\n",
       "    .dataframe tbody tr th:only-of-type {\n",
       "        vertical-align: middle;\n",
       "    }\n",
       "\n",
       "    .dataframe tbody tr th {\n",
       "        vertical-align: top;\n",
       "    }\n",
       "\n",
       "    .dataframe thead th {\n",
       "        text-align: right;\n",
       "    }\n",
       "</style>\n",
       "<table border=\"1\" class=\"dataframe\">\n",
       "  <thead>\n",
       "    <tr style=\"text-align: right;\">\n",
       "      <th></th>\n",
       "      <th>meter_no</th>\n",
       "      <th>date</th>\n",
       "      <th>Detailed_Remark</th>\n",
       "      <th>Sum_meter_aging</th>\n",
       "    </tr>\n",
       "  </thead>\n",
       "  <tbody>\n",
       "    <tr>\n",
       "      <th>8</th>\n",
       "      <td>GL8548474</td>\n",
       "      <td>2024-01-05</td>\n",
       "      <td>Never Communicating Meter (O&amp;M-IT)</td>\n",
       "      <td>4</td>\n",
       "    </tr>\n",
       "  </tbody>\n",
       "</table>\n",
       "</div>"
      ],
      "text/plain": [
       "    meter_no        date                     Detailed_Remark  Sum_meter_aging\n",
       "8  GL8548474  2024-01-05  Never Communicating Meter (O&M-IT)                4"
      ]
     },
     "execution_count": 16,
     "metadata": {},
     "output_type": "execute_result"
    }
   ],
   "source": [
    "output_df[output_df['meter_no']=='GL8548474']"
   ]
  }
 ],
 "metadata": {
  "kernelspec": {
   "display_name": "Python 3",
   "language": "python",
   "name": "python3"
  },
  "language_info": {
   "codemirror_mode": {
    "name": "ipython",
    "version": 3
   },
   "file_extension": ".py",
   "mimetype": "text/x-python",
   "name": "python",
   "nbconvert_exporter": "python",
   "pygments_lexer": "ipython3",
   "version": "3.9.19"
  }
 },
 "nbformat": 4,
 "nbformat_minor": 2
}
