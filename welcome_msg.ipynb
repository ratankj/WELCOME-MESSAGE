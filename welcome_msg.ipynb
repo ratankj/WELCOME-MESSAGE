{
 "cells": [
  {
   "cell_type": "code",
   "execution_count": 2,
   "metadata": {},
   "outputs": [],
   "source": [
    "import pandas as pd\n",
    "import numpy as np\n",
    "import os\n",
    "#import requests\n"
   ]
  },
  {
   "cell_type": "code",
   "execution_count": null,
   "metadata": {},
   "outputs": [],
   "source": [
    "# this code will read the file of xlsx, xlsb, .msg format"
   ]
  },
  {
   "cell_type": "code",
   "execution_count": 3,
   "metadata": {},
   "outputs": [
    {
     "name": "stdout",
     "output_type": "stream",
     "text": [
      "Welcome Msg Not Sent Data_02-06-24.xlsx\n",
      "Welcome Msg Not Sent Data_03-06-24.xlsx\n",
      "Welcome Msg Not Sent Data_04-06-24.xlsx\n",
      "Welcome Msg Not Sent Data_05-06-24.xlsx\n",
      "Welcome Msg Not Sent Data_06-06-24.xlsx\n",
      "Welcome Msg Not Sent Data_09-06-24.xlsx\n",
      "Welcome Msg Not Sent Data_10-06-24.xlsx\n",
      "Welcome Msg Not Sent Data_11-06-24.xlsx\n",
      "Welcome Msg Not Sent Data_13-06-24.xlsx\n",
      "Welcome Msg Not Sent Data_17-06-24.xlsx\n",
      "Welcome Msg Not Sent Data_18-06-24.xlsx\n",
      "Welcome Msg Not Sent Data_19-06-24.xlsx\n",
      "Welcome Msg Not Sent Data_20-06-24.xlsx\n",
      "Welcome Msg Not Sent Data_21-06-24.xlsx\n",
      "Welcome Msg Not Sent Data_23-06-24.xlsx\n",
      "Welcome Msg Not Sent Data_24-06-24.xlsx\n",
      "Welcome Msg Not Sent Data_25-06-24.xlsx\n",
      "Welcome Msg Not Sent Data_26-06-24.xlsx\n",
      "Welcome Msg Not Sent Data_27-06-24.xlsx\n",
      "Welcome Msg Not Sent Data_30-06-24.xlsx\n"
     ]
    }
   ],
   "source": [
    "k=1\n",
    "# Folder Path \n",
    "path = r\"C:\\Users\\Ratan Kumar Jha\\Desktop\\welcome msg\\Welcome\\June\"\n",
    "\n",
    "# Change the directory \n",
    "os.chdir(path) \n",
    "\n",
    "# Read text File \n",
    "\n",
    "def read_text_file(file_path): \n",
    "\twith open(file_path, 'r') as f: \n",
    "\t\tprint(f.read()) \n",
    "\n",
    "# iterate through all file \n",
    "for file in os.listdir():\n",
    "\tprint(file) \n",
    "\t\n",
    "\t# Check whether file is in text format or not \n",
    "\tif file.endswith('.xlsx') or file.endswith('.xlsb') or file.endswith('.msg'): \n",
    "\t\tfile_path = f\"{path}\\{file}\"\n",
    "\t\t#print(f\"{k} : the  path is : {path}\")\n",
    "\t\t#print(f\"{k} : the  file is : {file}\")\n",
    "\n",
    "\t\t#print(file_path)\n",
    "\t\t\n",
    "\t\t"
   ]
  },
  {
   "cell_type": "code",
   "execution_count": null,
   "metadata": {},
   "outputs": [],
   "source": []
  },
  {
   "cell_type": "markdown",
   "metadata": {},
   "source": [
    "# "
   ]
  },
  {
   "cell_type": "markdown",
   "metadata": {},
   "source": [
    "# lesser time "
   ]
  },
  {
   "cell_type": "code",
   "execution_count": 4,
   "metadata": {},
   "outputs": [],
   "source": [
    "import os\n",
    "import csv\n",
    "import openpyxl\n",
    "from extract_msg import Message\n",
    "\n",
    "# Set the path to the folder containing MSG files\n",
    "folder_path = r\"C:\\Users\\Ratan Kumar Jha\\Desktop\\welcome msg\\Welcome\\july\"\n",
    "\n",
    "# Function to convert Excel files to CSV format\n",
    "def convert_to_csv(excel_file_path, csv_file_path):\n",
    "    try:\n",
    "        # Read Excel file using pandas\n",
    "        df = pd.read_excel(excel_file_path)\n",
    "        \n",
    "        # Save DataFrame to CSV\n",
    "        df.to_csv(csv_file_path, index=False)\n",
    "        print(f\"Converted {excel_file_path} to CSV successfully.\")\n",
    "    except Exception as e:\n",
    "        print(f\"Failed to convert {excel_file_path} to CSV. Error: {e}\")\n",
    "\n",
    "# Iterate through each MSG file in the folder\n",
    "for filename in os.listdir(folder_path):\n",
    "    if filename.endswith(\".msg\"):\n",
    "        msg_file_path = os.path.join(folder_path, filename)\n",
    "        \n",
    "        # Parse MSG file\n",
    "        msg = Message(msg_file_path)\n",
    "        \n",
    "        # Extract attachments\n",
    "        attachments = msg.attachments\n",
    "        \n",
    "        # Iterate through each attachment\n",
    "        for attachment in attachments:\n",
    "            attachment_name = attachment.longFilename\n",
    "            \n",
    "            # Check if attachment is an Excel file\n",
    "            if attachment_name.endswith(\".xlsx\") :\n",
    "                excel_file_path = os.path.join(folder_path, attachment_name)\n",
    "                csv_file_path = os.path.splitext(excel_file_path)[0] + \".csv\"\n",
    "                \n",
    "                # Save attachment to disk\n",
    "                with open(excel_file_path, \"wb\") as f:\n",
    "                    f.write(attachment.data)\n",
    "                \n",
    "                # Convert Excel file to CSV\n",
    "                convert_to_csv(excel_file_path, csv_file_path)\n"
   ]
  },
  {
   "cell_type": "code",
   "execution_count": null,
   "metadata": {},
   "outputs": [],
   "source": []
  },
  {
   "cell_type": "code",
   "execution_count": 2,
   "metadata": {},
   "outputs": [],
   "source": []
  },
  {
   "cell_type": "code",
   "execution_count": null,
   "metadata": {},
   "outputs": [],
   "source": [
    "# before run this code. copy data from the welcome folder month and then create a new folder with month name in WELCOME DATA EXTRACTED folder than run this code"
   ]
  },
  {
   "cell_type": "code",
   "execution_count": null,
   "metadata": {},
   "outputs": [],
   "source": []
  },
  {
   "cell_type": "markdown",
   "metadata": {},
   "source": [
    "# code for read excel file and convert into csv "
   ]
  },
  {
   "cell_type": "code",
   "execution_count": 1,
   "metadata": {},
   "outputs": [
    {
     "name": "stdout",
     "output_type": "stream",
     "text": [
      "Welcome Msg Not Sent Data_01-09-24.xlsx\n",
      "Welcome Msg Not Sent Data_02-09-24.xlsx\n",
      "Welcome Msg Not Sent Data_03-09-24.xlsx\n"
     ]
    },
    {
     "ename": "KeyboardInterrupt",
     "evalue": "",
     "output_type": "error",
     "traceback": [
      "\u001b[1;31m---------------------------------------------------------------------------\u001b[0m",
      "\u001b[1;31mKeyboardInterrupt\u001b[0m                         Traceback (most recent call last)",
      "Cell \u001b[1;32mIn[1], line 24\u001b[0m\n\u001b[0;32m     22\u001b[0m \u001b[38;5;28;01mif\u001b[39;00m filename\u001b[38;5;241m.\u001b[39mendswith(\u001b[38;5;124m\"\u001b[39m\u001b[38;5;124m.xlsx\u001b[39m\u001b[38;5;124m\"\u001b[39m):\n\u001b[0;32m     23\u001b[0m     file_path_name \u001b[38;5;241m=\u001b[39m os\u001b[38;5;241m.\u001b[39mpath\u001b[38;5;241m.\u001b[39mjoin(folder_path, filename)\n\u001b[1;32m---> 24\u001b[0m     read_excel_Data\u001b[38;5;241m=\u001b[39m\u001b[43mpd\u001b[49m\u001b[38;5;241;43m.\u001b[39;49m\u001b[43mread_excel\u001b[49m\u001b[43m(\u001b[49m\u001b[43mfile_path_name\u001b[49m\u001b[43m,\u001b[49m\u001b[43msheet_name\u001b[49m\u001b[38;5;241;43m=\u001b[39;49m\u001b[38;5;241;43m1\u001b[39;49m\u001b[43m)\u001b[49m\n\u001b[0;32m     25\u001b[0m     \u001b[38;5;66;03m# Specify the path where CSV file should be saved\u001b[39;00m\n\u001b[0;32m     26\u001b[0m     csv_file_path \u001b[38;5;241m=\u001b[39m os\u001b[38;5;241m.\u001b[39mpath\u001b[38;5;241m.\u001b[39mjoin(new_folder_path, filename\u001b[38;5;241m.\u001b[39mreplace(\u001b[38;5;124m\"\u001b[39m\u001b[38;5;124m.xlsx\u001b[39m\u001b[38;5;124m\"\u001b[39m, \u001b[38;5;124m\"\u001b[39m\u001b[38;5;124m.csv\u001b[39m\u001b[38;5;124m\"\u001b[39m))\n",
      "File \u001b[1;32mc:\\PYTHON\\EDF_CODE_AUTOMATION_PYTHON\\WELCOME-MESSAGE\\venv\\lib\\site-packages\\pandas\\io\\excel\\_base.py:495\u001b[0m, in \u001b[0;36mread_excel\u001b[1;34m(io, sheet_name, header, names, index_col, usecols, dtype, engine, converters, true_values, false_values, skiprows, nrows, na_values, keep_default_na, na_filter, verbose, parse_dates, date_parser, date_format, thousands, decimal, comment, skipfooter, storage_options, dtype_backend, engine_kwargs)\u001b[0m\n\u001b[0;32m    493\u001b[0m \u001b[38;5;28;01mif\u001b[39;00m \u001b[38;5;129;01mnot\u001b[39;00m \u001b[38;5;28misinstance\u001b[39m(io, ExcelFile):\n\u001b[0;32m    494\u001b[0m     should_close \u001b[38;5;241m=\u001b[39m \u001b[38;5;28;01mTrue\u001b[39;00m\n\u001b[1;32m--> 495\u001b[0m     io \u001b[38;5;241m=\u001b[39m \u001b[43mExcelFile\u001b[49m\u001b[43m(\u001b[49m\n\u001b[0;32m    496\u001b[0m \u001b[43m        \u001b[49m\u001b[43mio\u001b[49m\u001b[43m,\u001b[49m\n\u001b[0;32m    497\u001b[0m \u001b[43m        \u001b[49m\u001b[43mstorage_options\u001b[49m\u001b[38;5;241;43m=\u001b[39;49m\u001b[43mstorage_options\u001b[49m\u001b[43m,\u001b[49m\n\u001b[0;32m    498\u001b[0m \u001b[43m        \u001b[49m\u001b[43mengine\u001b[49m\u001b[38;5;241;43m=\u001b[39;49m\u001b[43mengine\u001b[49m\u001b[43m,\u001b[49m\n\u001b[0;32m    499\u001b[0m \u001b[43m        \u001b[49m\u001b[43mengine_kwargs\u001b[49m\u001b[38;5;241;43m=\u001b[39;49m\u001b[43mengine_kwargs\u001b[49m\u001b[43m,\u001b[49m\n\u001b[0;32m    500\u001b[0m \u001b[43m    \u001b[49m\u001b[43m)\u001b[49m\n\u001b[0;32m    501\u001b[0m \u001b[38;5;28;01melif\u001b[39;00m engine \u001b[38;5;129;01mand\u001b[39;00m engine \u001b[38;5;241m!=\u001b[39m io\u001b[38;5;241m.\u001b[39mengine:\n\u001b[0;32m    502\u001b[0m     \u001b[38;5;28;01mraise\u001b[39;00m \u001b[38;5;167;01mValueError\u001b[39;00m(\n\u001b[0;32m    503\u001b[0m         \u001b[38;5;124m\"\u001b[39m\u001b[38;5;124mEngine should not be specified when passing \u001b[39m\u001b[38;5;124m\"\u001b[39m\n\u001b[0;32m    504\u001b[0m         \u001b[38;5;124m\"\u001b[39m\u001b[38;5;124man ExcelFile - ExcelFile already has the engine set\u001b[39m\u001b[38;5;124m\"\u001b[39m\n\u001b[0;32m    505\u001b[0m     )\n",
      "File \u001b[1;32mc:\\PYTHON\\EDF_CODE_AUTOMATION_PYTHON\\WELCOME-MESSAGE\\venv\\lib\\site-packages\\pandas\\io\\excel\\_base.py:1567\u001b[0m, in \u001b[0;36mExcelFile.__init__\u001b[1;34m(self, path_or_buffer, engine, storage_options, engine_kwargs)\u001b[0m\n\u001b[0;32m   1564\u001b[0m \u001b[38;5;28mself\u001b[39m\u001b[38;5;241m.\u001b[39mengine \u001b[38;5;241m=\u001b[39m engine\n\u001b[0;32m   1565\u001b[0m \u001b[38;5;28mself\u001b[39m\u001b[38;5;241m.\u001b[39mstorage_options \u001b[38;5;241m=\u001b[39m storage_options\n\u001b[1;32m-> 1567\u001b[0m \u001b[38;5;28mself\u001b[39m\u001b[38;5;241m.\u001b[39m_reader \u001b[38;5;241m=\u001b[39m \u001b[38;5;28;43mself\u001b[39;49m\u001b[38;5;241;43m.\u001b[39;49m\u001b[43m_engines\u001b[49m\u001b[43m[\u001b[49m\u001b[43mengine\u001b[49m\u001b[43m]\u001b[49m\u001b[43m(\u001b[49m\n\u001b[0;32m   1568\u001b[0m \u001b[43m    \u001b[49m\u001b[38;5;28;43mself\u001b[39;49m\u001b[38;5;241;43m.\u001b[39;49m\u001b[43m_io\u001b[49m\u001b[43m,\u001b[49m\n\u001b[0;32m   1569\u001b[0m \u001b[43m    \u001b[49m\u001b[43mstorage_options\u001b[49m\u001b[38;5;241;43m=\u001b[39;49m\u001b[43mstorage_options\u001b[49m\u001b[43m,\u001b[49m\n\u001b[0;32m   1570\u001b[0m \u001b[43m    \u001b[49m\u001b[43mengine_kwargs\u001b[49m\u001b[38;5;241;43m=\u001b[39;49m\u001b[43mengine_kwargs\u001b[49m\u001b[43m,\u001b[49m\n\u001b[0;32m   1571\u001b[0m \u001b[43m\u001b[49m\u001b[43m)\u001b[49m\n",
      "File \u001b[1;32mc:\\PYTHON\\EDF_CODE_AUTOMATION_PYTHON\\WELCOME-MESSAGE\\venv\\lib\\site-packages\\pandas\\io\\excel\\_openpyxl.py:553\u001b[0m, in \u001b[0;36mOpenpyxlReader.__init__\u001b[1;34m(self, filepath_or_buffer, storage_options, engine_kwargs)\u001b[0m\n\u001b[0;32m    541\u001b[0m \u001b[38;5;250m\u001b[39m\u001b[38;5;124;03m\"\"\"\u001b[39;00m\n\u001b[0;32m    542\u001b[0m \u001b[38;5;124;03mReader using openpyxl engine.\u001b[39;00m\n\u001b[0;32m    543\u001b[0m \n\u001b[1;32m   (...)\u001b[0m\n\u001b[0;32m    550\u001b[0m \u001b[38;5;124;03m    Arbitrary keyword arguments passed to excel engine.\u001b[39;00m\n\u001b[0;32m    551\u001b[0m \u001b[38;5;124;03m\"\"\"\u001b[39;00m\n\u001b[0;32m    552\u001b[0m import_optional_dependency(\u001b[38;5;124m\"\u001b[39m\u001b[38;5;124mopenpyxl\u001b[39m\u001b[38;5;124m\"\u001b[39m)\n\u001b[1;32m--> 553\u001b[0m \u001b[38;5;28;43msuper\u001b[39;49m\u001b[43m(\u001b[49m\u001b[43m)\u001b[49m\u001b[38;5;241;43m.\u001b[39;49m\u001b[38;5;21;43m__init__\u001b[39;49m\u001b[43m(\u001b[49m\n\u001b[0;32m    554\u001b[0m \u001b[43m    \u001b[49m\u001b[43mfilepath_or_buffer\u001b[49m\u001b[43m,\u001b[49m\n\u001b[0;32m    555\u001b[0m \u001b[43m    \u001b[49m\u001b[43mstorage_options\u001b[49m\u001b[38;5;241;43m=\u001b[39;49m\u001b[43mstorage_options\u001b[49m\u001b[43m,\u001b[49m\n\u001b[0;32m    556\u001b[0m \u001b[43m    \u001b[49m\u001b[43mengine_kwargs\u001b[49m\u001b[38;5;241;43m=\u001b[39;49m\u001b[43mengine_kwargs\u001b[49m\u001b[43m,\u001b[49m\n\u001b[0;32m    557\u001b[0m \u001b[43m\u001b[49m\u001b[43m)\u001b[49m\n",
      "File \u001b[1;32mc:\\PYTHON\\EDF_CODE_AUTOMATION_PYTHON\\WELCOME-MESSAGE\\venv\\lib\\site-packages\\pandas\\io\\excel\\_base.py:573\u001b[0m, in \u001b[0;36mBaseExcelReader.__init__\u001b[1;34m(self, filepath_or_buffer, storage_options, engine_kwargs)\u001b[0m\n\u001b[0;32m    571\u001b[0m \u001b[38;5;28mself\u001b[39m\u001b[38;5;241m.\u001b[39mhandles\u001b[38;5;241m.\u001b[39mhandle\u001b[38;5;241m.\u001b[39mseek(\u001b[38;5;241m0\u001b[39m)\n\u001b[0;32m    572\u001b[0m \u001b[38;5;28;01mtry\u001b[39;00m:\n\u001b[1;32m--> 573\u001b[0m     \u001b[38;5;28mself\u001b[39m\u001b[38;5;241m.\u001b[39mbook \u001b[38;5;241m=\u001b[39m \u001b[38;5;28;43mself\u001b[39;49m\u001b[38;5;241;43m.\u001b[39;49m\u001b[43mload_workbook\u001b[49m\u001b[43m(\u001b[49m\u001b[38;5;28;43mself\u001b[39;49m\u001b[38;5;241;43m.\u001b[39;49m\u001b[43mhandles\u001b[49m\u001b[38;5;241;43m.\u001b[39;49m\u001b[43mhandle\u001b[49m\u001b[43m,\u001b[49m\u001b[43m \u001b[49m\u001b[43mengine_kwargs\u001b[49m\u001b[43m)\u001b[49m\n\u001b[0;32m    574\u001b[0m \u001b[38;5;28;01mexcept\u001b[39;00m \u001b[38;5;167;01mException\u001b[39;00m:\n\u001b[0;32m    575\u001b[0m     \u001b[38;5;28mself\u001b[39m\u001b[38;5;241m.\u001b[39mclose()\n",
      "File \u001b[1;32mc:\\PYTHON\\EDF_CODE_AUTOMATION_PYTHON\\WELCOME-MESSAGE\\venv\\lib\\site-packages\\pandas\\io\\excel\\_openpyxl.py:572\u001b[0m, in \u001b[0;36mOpenpyxlReader.load_workbook\u001b[1;34m(self, filepath_or_buffer, engine_kwargs)\u001b[0m\n\u001b[0;32m    568\u001b[0m \u001b[38;5;28;01mfrom\u001b[39;00m \u001b[38;5;21;01mopenpyxl\u001b[39;00m \u001b[38;5;28;01mimport\u001b[39;00m load_workbook\n\u001b[0;32m    570\u001b[0m default_kwargs \u001b[38;5;241m=\u001b[39m {\u001b[38;5;124m\"\u001b[39m\u001b[38;5;124mread_only\u001b[39m\u001b[38;5;124m\"\u001b[39m: \u001b[38;5;28;01mTrue\u001b[39;00m, \u001b[38;5;124m\"\u001b[39m\u001b[38;5;124mdata_only\u001b[39m\u001b[38;5;124m\"\u001b[39m: \u001b[38;5;28;01mTrue\u001b[39;00m, \u001b[38;5;124m\"\u001b[39m\u001b[38;5;124mkeep_links\u001b[39m\u001b[38;5;124m\"\u001b[39m: \u001b[38;5;28;01mFalse\u001b[39;00m}\n\u001b[1;32m--> 572\u001b[0m \u001b[38;5;28;01mreturn\u001b[39;00m load_workbook(\n\u001b[0;32m    573\u001b[0m     filepath_or_buffer,\n\u001b[0;32m    574\u001b[0m     \u001b[38;5;241m*\u001b[39m\u001b[38;5;241m*\u001b[39m(default_kwargs \u001b[38;5;241m|\u001b[39m engine_kwargs),\n\u001b[0;32m    575\u001b[0m )\n",
      "File \u001b[1;32mc:\\PYTHON\\EDF_CODE_AUTOMATION_PYTHON\\WELCOME-MESSAGE\\venv\\lib\\site-packages\\openpyxl\\reader\\excel.py:348\u001b[0m, in \u001b[0;36mload_workbook\u001b[1;34m(filename, read_only, keep_vba, data_only, keep_links, rich_text)\u001b[0m\n\u001b[0;32m    318\u001b[0m \u001b[38;5;250m\u001b[39m\u001b[38;5;124;03m\"\"\"Open the given filename and return the workbook\u001b[39;00m\n\u001b[0;32m    319\u001b[0m \n\u001b[0;32m    320\u001b[0m \u001b[38;5;124;03m:param filename: the path to open or a file-like object\u001b[39;00m\n\u001b[1;32m   (...)\u001b[0m\n\u001b[0;32m    344\u001b[0m \n\u001b[0;32m    345\u001b[0m \u001b[38;5;124;03m\"\"\"\u001b[39;00m\n\u001b[0;32m    346\u001b[0m reader \u001b[38;5;241m=\u001b[39m ExcelReader(filename, read_only, keep_vba,\n\u001b[0;32m    347\u001b[0m                      data_only, keep_links, rich_text)\n\u001b[1;32m--> 348\u001b[0m \u001b[43mreader\u001b[49m\u001b[38;5;241;43m.\u001b[39;49m\u001b[43mread\u001b[49m\u001b[43m(\u001b[49m\u001b[43m)\u001b[49m\n\u001b[0;32m    349\u001b[0m \u001b[38;5;28;01mreturn\u001b[39;00m reader\u001b[38;5;241m.\u001b[39mwb\n",
      "File \u001b[1;32mc:\\PYTHON\\EDF_CODE_AUTOMATION_PYTHON\\WELCOME-MESSAGE\\venv\\lib\\site-packages\\openpyxl\\reader\\excel.py:291\u001b[0m, in \u001b[0;36mExcelReader.read\u001b[1;34m(self)\u001b[0m\n\u001b[0;32m    289\u001b[0m \u001b[38;5;28mself\u001b[39m\u001b[38;5;241m.\u001b[39mread_manifest()\n\u001b[0;32m    290\u001b[0m action \u001b[38;5;241m=\u001b[39m \u001b[38;5;124m\"\u001b[39m\u001b[38;5;124mread strings\u001b[39m\u001b[38;5;124m\"\u001b[39m\n\u001b[1;32m--> 291\u001b[0m \u001b[38;5;28;43mself\u001b[39;49m\u001b[38;5;241;43m.\u001b[39;49m\u001b[43mread_strings\u001b[49m\u001b[43m(\u001b[49m\u001b[43m)\u001b[49m\n\u001b[0;32m    292\u001b[0m action \u001b[38;5;241m=\u001b[39m \u001b[38;5;124m\"\u001b[39m\u001b[38;5;124mread workbook\u001b[39m\u001b[38;5;124m\"\u001b[39m\n\u001b[0;32m    293\u001b[0m \u001b[38;5;28mself\u001b[39m\u001b[38;5;241m.\u001b[39mread_workbook()\n",
      "File \u001b[1;32mc:\\PYTHON\\EDF_CODE_AUTOMATION_PYTHON\\WELCOME-MESSAGE\\venv\\lib\\site-packages\\openpyxl\\reader\\excel.py:147\u001b[0m, in \u001b[0;36mExcelReader.read_strings\u001b[1;34m(self)\u001b[0m\n\u001b[0;32m    145\u001b[0m strings_path \u001b[38;5;241m=\u001b[39m ct\u001b[38;5;241m.\u001b[39mPartName[\u001b[38;5;241m1\u001b[39m:]\n\u001b[0;32m    146\u001b[0m \u001b[38;5;28;01mwith\u001b[39;00m \u001b[38;5;28mself\u001b[39m\u001b[38;5;241m.\u001b[39marchive\u001b[38;5;241m.\u001b[39mopen(strings_path,) \u001b[38;5;28;01mas\u001b[39;00m src:\n\u001b[1;32m--> 147\u001b[0m     \u001b[38;5;28mself\u001b[39m\u001b[38;5;241m.\u001b[39mshared_strings \u001b[38;5;241m=\u001b[39m \u001b[43mreader\u001b[49m\u001b[43m(\u001b[49m\u001b[43msrc\u001b[49m\u001b[43m)\u001b[49m\n",
      "File \u001b[1;32mc:\\PYTHON\\EDF_CODE_AUTOMATION_PYTHON\\WELCOME-MESSAGE\\venv\\lib\\site-packages\\openpyxl\\reader\\strings.py:16\u001b[0m, in \u001b[0;36mread_string_table\u001b[1;34m(xml_source)\u001b[0m\n\u001b[0;32m     13\u001b[0m strings \u001b[38;5;241m=\u001b[39m []\n\u001b[0;32m     14\u001b[0m STRING_TAG \u001b[38;5;241m=\u001b[39m \u001b[38;5;124m'\u001b[39m\u001b[38;5;124m{\u001b[39m\u001b[38;5;132;01m%s\u001b[39;00m\u001b[38;5;124m}si\u001b[39m\u001b[38;5;124m'\u001b[39m \u001b[38;5;241m%\u001b[39m SHEET_MAIN_NS\n\u001b[1;32m---> 16\u001b[0m \u001b[38;5;28;01mfor\u001b[39;00m _, node \u001b[38;5;129;01min\u001b[39;00m iterparse(xml_source):\n\u001b[0;32m     17\u001b[0m     \u001b[38;5;28;01mif\u001b[39;00m node\u001b[38;5;241m.\u001b[39mtag \u001b[38;5;241m==\u001b[39m STRING_TAG:\n\u001b[0;32m     18\u001b[0m         text \u001b[38;5;241m=\u001b[39m Text\u001b[38;5;241m.\u001b[39mfrom_tree(node)\u001b[38;5;241m.\u001b[39mcontent\n",
      "File \u001b[1;32mc:\\PYTHON\\EDF_CODE_AUTOMATION_PYTHON\\WELCOME-MESSAGE\\venv\\lib\\xml\\etree\\ElementTree.py:1255\u001b[0m, in \u001b[0;36miterparse.<locals>.iterator\u001b[1;34m(source)\u001b[0m\n\u001b[0;32m   1253\u001b[0m \u001b[38;5;28;01myield from\u001b[39;00m pullparser\u001b[38;5;241m.\u001b[39mread_events()\n\u001b[0;32m   1254\u001b[0m \u001b[38;5;66;03m# load event buffer\u001b[39;00m\n\u001b[1;32m-> 1255\u001b[0m data \u001b[38;5;241m=\u001b[39m \u001b[43msource\u001b[49m\u001b[38;5;241;43m.\u001b[39;49m\u001b[43mread\u001b[49m\u001b[43m(\u001b[49m\u001b[38;5;241;43m16\u001b[39;49m\u001b[43m \u001b[49m\u001b[38;5;241;43m*\u001b[39;49m\u001b[43m \u001b[49m\u001b[38;5;241;43m1024\u001b[39;49m\u001b[43m)\u001b[49m\n\u001b[0;32m   1256\u001b[0m \u001b[38;5;28;01mif\u001b[39;00m \u001b[38;5;129;01mnot\u001b[39;00m data:\n\u001b[0;32m   1257\u001b[0m     \u001b[38;5;28;01mbreak\u001b[39;00m\n",
      "File \u001b[1;32mc:\\PYTHON\\EDF_CODE_AUTOMATION_PYTHON\\WELCOME-MESSAGE\\venv\\lib\\zipfile.py:926\u001b[0m, in \u001b[0;36mZipExtFile.read\u001b[1;34m(self, n)\u001b[0m\n\u001b[0;32m    924\u001b[0m \u001b[38;5;28mself\u001b[39m\u001b[38;5;241m.\u001b[39m_offset \u001b[38;5;241m=\u001b[39m \u001b[38;5;241m0\u001b[39m\n\u001b[0;32m    925\u001b[0m \u001b[38;5;28;01mwhile\u001b[39;00m n \u001b[38;5;241m>\u001b[39m \u001b[38;5;241m0\u001b[39m \u001b[38;5;129;01mand\u001b[39;00m \u001b[38;5;129;01mnot\u001b[39;00m \u001b[38;5;28mself\u001b[39m\u001b[38;5;241m.\u001b[39m_eof:\n\u001b[1;32m--> 926\u001b[0m     data \u001b[38;5;241m=\u001b[39m \u001b[38;5;28;43mself\u001b[39;49m\u001b[38;5;241;43m.\u001b[39;49m\u001b[43m_read1\u001b[49m\u001b[43m(\u001b[49m\u001b[43mn\u001b[49m\u001b[43m)\u001b[49m\n\u001b[0;32m    927\u001b[0m     \u001b[38;5;28;01mif\u001b[39;00m n \u001b[38;5;241m<\u001b[39m \u001b[38;5;28mlen\u001b[39m(data):\n\u001b[0;32m    928\u001b[0m         \u001b[38;5;28mself\u001b[39m\u001b[38;5;241m.\u001b[39m_readbuffer \u001b[38;5;241m=\u001b[39m data\n",
      "File \u001b[1;32mc:\\PYTHON\\EDF_CODE_AUTOMATION_PYTHON\\WELCOME-MESSAGE\\venv\\lib\\zipfile.py:1002\u001b[0m, in \u001b[0;36mZipExtFile._read1\u001b[1;34m(self, n)\u001b[0m\n\u001b[0;32m   1000\u001b[0m \u001b[38;5;28;01melif\u001b[39;00m \u001b[38;5;28mself\u001b[39m\u001b[38;5;241m.\u001b[39m_compress_type \u001b[38;5;241m==\u001b[39m ZIP_DEFLATED:\n\u001b[0;32m   1001\u001b[0m     n \u001b[38;5;241m=\u001b[39m \u001b[38;5;28mmax\u001b[39m(n, \u001b[38;5;28mself\u001b[39m\u001b[38;5;241m.\u001b[39mMIN_READ_SIZE)\n\u001b[1;32m-> 1002\u001b[0m     data \u001b[38;5;241m=\u001b[39m \u001b[38;5;28;43mself\u001b[39;49m\u001b[38;5;241;43m.\u001b[39;49m\u001b[43m_decompressor\u001b[49m\u001b[38;5;241;43m.\u001b[39;49m\u001b[43mdecompress\u001b[49m\u001b[43m(\u001b[49m\u001b[43mdata\u001b[49m\u001b[43m,\u001b[49m\u001b[43m \u001b[49m\u001b[43mn\u001b[49m\u001b[43m)\u001b[49m\n\u001b[0;32m   1003\u001b[0m     \u001b[38;5;28mself\u001b[39m\u001b[38;5;241m.\u001b[39m_eof \u001b[38;5;241m=\u001b[39m (\u001b[38;5;28mself\u001b[39m\u001b[38;5;241m.\u001b[39m_decompressor\u001b[38;5;241m.\u001b[39meof \u001b[38;5;129;01mor\u001b[39;00m\n\u001b[0;32m   1004\u001b[0m                  \u001b[38;5;28mself\u001b[39m\u001b[38;5;241m.\u001b[39m_compress_left \u001b[38;5;241m<\u001b[39m\u001b[38;5;241m=\u001b[39m \u001b[38;5;241m0\u001b[39m \u001b[38;5;129;01mand\u001b[39;00m\n\u001b[0;32m   1005\u001b[0m                  \u001b[38;5;129;01mnot\u001b[39;00m \u001b[38;5;28mself\u001b[39m\u001b[38;5;241m.\u001b[39m_decompressor\u001b[38;5;241m.\u001b[39munconsumed_tail)\n\u001b[0;32m   1006\u001b[0m     \u001b[38;5;28;01mif\u001b[39;00m \u001b[38;5;28mself\u001b[39m\u001b[38;5;241m.\u001b[39m_eof:\n",
      "\u001b[1;31mKeyboardInterrupt\u001b[0m: "
     ]
    }
   ],
   "source": [
    "import pandas as pd\n",
    "\n",
    "import os\n",
    "import csv\n",
    "import openpyxl\n",
    "from extract_msg import Message\n",
    "import shutil\n",
    "\n",
    "# Set the path to the folder containing MSG files\n",
    "folder_path = r\"C:\\Users\\Ratan Kumar Jha\\Desktop\\welcome msg\\WELCOME DATA EXTRACTED\\Sep\"\n",
    "\n",
    "# -------------------------------------------------------------------------------------------------\n",
    "base_path = r'C:\\Users\\Ratan Kumar Jha\\Desktop\\welcome msg\\WELCOME_MSG_OUTPUT'\n",
    "new_folder_name = 'Sep'\n",
    "new_folder_path = os.path.join(base_path,new_folder_name)\n",
    "shutil.rmtree(new_folder_path)\n",
    "os.makedirs(new_folder_path)\n",
    "\n",
    "# -------------------------------------------------------------------------------------------------\n",
    "for filename in os.listdir(folder_path):\n",
    "    print(filename)\n",
    "    if filename.endswith(\".xlsx\"):\n",
    "        file_path_name = os.path.join(folder_path, filename)\n",
    "        read_excel_Data=pd.read_excel(file_path_name,sheet_name=1)\n",
    "        # Specify the path where CSV file should be saved\n",
    "        csv_file_path = os.path.join(new_folder_path, filename.replace(\".xlsx\", \".csv\"))\n",
    "        # Save DataFrame to CSV\n",
    "        read_excel_Data.to_csv(csv_file_path, index=False)\n",
    "        \n",
    "\n",
    "        \n",
    "\n"
   ]
  },
  {
   "cell_type": "code",
   "execution_count": null,
   "metadata": {},
   "outputs": [],
   "source": []
  },
  {
   "cell_type": "code",
   "execution_count": null,
   "metadata": {},
   "outputs": [],
   "source": []
  },
  {
   "cell_type": "markdown",
   "metadata": {},
   "source": [
    "# this code will convert excel into csv file and than concat the data into a single file"
   ]
  },
  {
   "cell_type": "code",
   "execution_count": 4,
   "metadata": {},
   "outputs": [
    {
     "name": "stdout",
     "output_type": "stream",
     "text": [
      "Welcome Msg Not Sent Data_01-09-24.xlsx\n",
      "C:\\Users\\Ratan Kumar Jha\\Desktop\\welcome msg\\WELCOME_MSG_OUTPUT\\Sep\\Welcome Msg Not Sent Data_01-09-24.csv\n",
      "Welcome Msg Not Sent Data_02-09-24.xlsx\n",
      "C:\\Users\\Ratan Kumar Jha\\Desktop\\welcome msg\\WELCOME_MSG_OUTPUT\\Sep\\Welcome Msg Not Sent Data_02-09-24.csv\n",
      "Welcome Msg Not Sent Data_03-09-24.xlsx\n",
      "C:\\Users\\Ratan Kumar Jha\\Desktop\\welcome msg\\WELCOME_MSG_OUTPUT\\Sep\\Welcome Msg Not Sent Data_03-09-24.csv\n",
      "Welcome Msg Not Sent Data_04-09-24.xlsx\n",
      "C:\\Users\\Ratan Kumar Jha\\Desktop\\welcome msg\\WELCOME_MSG_OUTPUT\\Sep\\Welcome Msg Not Sent Data_04-09-24.csv\n",
      "Welcome Msg Not Sent Data_05-09-24.xlsx\n",
      "C:\\Users\\Ratan Kumar Jha\\Desktop\\welcome msg\\WELCOME_MSG_OUTPUT\\Sep\\Welcome Msg Not Sent Data_05-09-24.csv\n",
      "Welcome Msg Not Sent Data_06-09-24.xlsx\n",
      "C:\\Users\\Ratan Kumar Jha\\Desktop\\welcome msg\\WELCOME_MSG_OUTPUT\\Sep\\Welcome Msg Not Sent Data_06-09-24.csv\n",
      "Concatenation completed and saved to: C:\\Users\\Ratan Kumar Jha\\Desktop\\welcome msg\\WELCOME_MSG_OUTPUT\\concatenated_data_Sep.csv\n"
     ]
    }
   ],
   "source": [
    "import os\n",
    "import csv\n",
    "import openpyxl\n",
    "from extract_msg import Message\n",
    "import shutil\n",
    "import pandas as pd\n",
    "\n",
    "# Set the path to the folder containing MSG files\n",
    "folder_path = r\"C:\\Users\\Ratan Kumar Jha\\Desktop\\welcome msg\\WELCOME DATA EXTRACTED\\Sep\"\n",
    "\n",
    "# -------------------------------------------------------------------------------------------------\n",
    "base_path = r'C:\\Users\\Ratan Kumar Jha\\Desktop\\welcome msg\\WELCOME_MSG_OUTPUT'\n",
    "new_folder_name = 'Sep'\n",
    "new_folder_path = os.path.join(base_path,new_folder_name)\n",
    "\n",
    "\n",
    "\n",
    "# Create the new folder\n",
    "if not os.path.exists(new_folder_path):\n",
    "    os.makedirs(new_folder_path)\n",
    "\n",
    "\n",
    "\n",
    "# Initialize an empty list to store DataFrames\n",
    "dfs = []\n",
    "\n",
    "\n",
    "# -------------------------------------------------------------------------------------------------\n",
    "for filename in os.listdir(folder_path):\n",
    "    print(filename)\n",
    "    if filename.endswith(\".xlsx\"):\n",
    "        file_path_name = os.path.join(folder_path, filename)\n",
    "        read_excel_Data=pd.read_excel(file_path_name,sheet_name=1)\n",
    "        # Specify the path where CSV file should be saved\n",
    "        csv_file_path = os.path.join(new_folder_path, filename.replace(\".xlsx\", \".csv\"))\n",
    "        # Save DataFrame to CSV\n",
    "        print(csv_file_path)\n",
    "        read_excel_Data.to_csv(csv_file_path, index=False)\n",
    "        dfs.append(read_excel_Data)\n",
    "\n",
    "\n",
    "        \n",
    "# Concatenate all DataFrames in the list along the rows\n",
    "concatenated_df = pd.concat(dfs, ignore_index=True)\n",
    "\n",
    "# Specify the path where the concatenated CSV file should be saved\n",
    "output_csv_path = os.path.join(base_path, \"concatenated_data_Sep.csv\")\n",
    "\n",
    "# Save the concatenated DataFrame to a CSV file\n",
    "concatenated_df.to_csv(output_csv_path, index=False)\n",
    "\n",
    "print(\"Concatenation completed and saved to:\", output_csv_path)\n",
    "\n"
   ]
  },
  {
   "cell_type": "code",
   "execution_count": null,
   "metadata": {},
   "outputs": [],
   "source": []
  },
  {
   "cell_type": "code",
   "execution_count": null,
   "metadata": {},
   "outputs": [],
   "source": []
  },
  {
   "cell_type": "markdown",
   "metadata": {},
   "source": [
    "# end"
   ]
  },
  {
   "cell_type": "code",
   "execution_count": null,
   "metadata": {},
   "outputs": [],
   "source": [
    "import os\n",
    "import pandas as pd\n",
    "import shutil\n",
    "\n",
    "# Set the path to the folder containing MSG files\n",
    "folder_path = r\"C:\\Users\\Ratan Kumar Jha\\Desktop\\welcome msg\\WELCOME DATA EXTRACTED\\March\"\n",
    "\n",
    "# Set the base path for new folder creation\n",
    "base_path = r'C:\\Users\\Ratan Kumar Jha\\Desktop\\welcome msg\\WELCOME_MSG_OUTPUT'\n",
    "new_folder_name = 'March'\n",
    "new_folder_path = os.path.join(base_path, new_folder_name)\n",
    "\n",
    "# Create the new folder\n",
    "if not os.path.exists(new_folder_path):\n",
    "    os.makedirs(new_folder_path)\n",
    "\n",
    "# Initialize an empty list to store DataFrames\n",
    "dfs = []\n",
    "\n",
    "# Iterate through files in the folder\n",
    "for filename in os.listdir(folder_path):\n",
    "    if filename.endswith(\".xlsx\"):\n",
    "        file_path_name = os.path.join(folder_path, filename)\n",
    "        # Read the second sheet of the Excel file into DataFrame\n",
    "        read_excel_Data = pd.read_excel(file_path_name, sheet_name=1)  # Assuming you want to read the second sheet\n",
    "        # Specify the path where CSV file should be saved\n",
    "        csv_file_path = os.path.join(new_folder_path, filename.replace(\".xlsx\", \".csv\"))\n",
    "        # Save DataFrame to CSV\n",
    "        read_excel_Data.to_csv(csv_file_path, index=False)\n",
    "        # Append DataFrame to the list\n",
    "        dfs.append(read_excel_Data)\n",
    "\n",
    "# Concatenate all DataFrames in the list along the rows\n",
    "concatenated_df = pd.concat(dfs, ignore_index=True)\n",
    "\n",
    "# Specify the path where the concatenated CSV file should be saved\n",
    "output_csv_path = os.path.join(base_path, \"concatenated_data.csv\")\n",
    "\n",
    "# Save the concatenated DataFrame to a CSV file\n",
    "concatenated_df.to_csv(output_csv_path, index=False)\n",
    "\n",
    "print(\"Concatenation completed and saved to:\", output_csv_path)\n"
   ]
  }
 ],
 "metadata": {
  "kernelspec": {
   "display_name": "Python 3",
   "language": "python",
   "name": "python3"
  },
  "language_info": {
   "codemirror_mode": {
    "name": "ipython",
    "version": 3
   },
   "file_extension": ".py",
   "mimetype": "text/x-python",
   "name": "python",
   "nbconvert_exporter": "python",
   "pygments_lexer": "ipython3",
   "version": "3.9.19"
  }
 },
 "nbformat": 4,
 "nbformat_minor": 2
}
