{
 "cells": [
  {
   "cell_type": "code",
   "execution_count": 2,
   "metadata": {},
   "outputs": [],
   "source": [
    "import pandas as pd\n",
    "import numpy as np\n",
    "import os\n",
    "#import requests\n"
   ]
  },
  {
   "cell_type": "code",
   "execution_count": null,
   "metadata": {},
   "outputs": [],
   "source": [
    "# this code will read the file of xlsx, xlsb, .msg format"
   ]
  },
  {
   "cell_type": "code",
   "execution_count": 3,
   "metadata": {},
   "outputs": [
    {
     "name": "stdout",
     "output_type": "stream",
     "text": [
      "Welcome Msg Not Sent Data_02-06-24.xlsx\n",
      "Welcome Msg Not Sent Data_03-06-24.xlsx\n",
      "Welcome Msg Not Sent Data_04-06-24.xlsx\n",
      "Welcome Msg Not Sent Data_05-06-24.xlsx\n",
      "Welcome Msg Not Sent Data_06-06-24.xlsx\n",
      "Welcome Msg Not Sent Data_09-06-24.xlsx\n",
      "Welcome Msg Not Sent Data_10-06-24.xlsx\n",
      "Welcome Msg Not Sent Data_11-06-24.xlsx\n",
      "Welcome Msg Not Sent Data_13-06-24.xlsx\n",
      "Welcome Msg Not Sent Data_17-06-24.xlsx\n",
      "Welcome Msg Not Sent Data_18-06-24.xlsx\n",
      "Welcome Msg Not Sent Data_19-06-24.xlsx\n",
      "Welcome Msg Not Sent Data_20-06-24.xlsx\n",
      "Welcome Msg Not Sent Data_21-06-24.xlsx\n",
      "Welcome Msg Not Sent Data_23-06-24.xlsx\n",
      "Welcome Msg Not Sent Data_24-06-24.xlsx\n",
      "Welcome Msg Not Sent Data_25-06-24.xlsx\n",
      "Welcome Msg Not Sent Data_26-06-24.xlsx\n",
      "Welcome Msg Not Sent Data_27-06-24.xlsx\n",
      "Welcome Msg Not Sent Data_30-06-24.xlsx\n"
     ]
    }
   ],
   "source": [
    "k=1\n",
    "# Folder Path \n",
    "path = r\"C:\\Users\\Ratan Kumar Jha\\Desktop\\welcome msg\\Welcome\\June\"\n",
    "\n",
    "# Change the directory \n",
    "os.chdir(path) \n",
    "\n",
    "# Read text File \n",
    "\n",
    "def read_text_file(file_path): \n",
    "\twith open(file_path, 'r') as f: \n",
    "\t\tprint(f.read()) \n",
    "\n",
    "# iterate through all file \n",
    "for file in os.listdir():\n",
    "\tprint(file) \n",
    "\t\n",
    "\t# Check whether file is in text format or not \n",
    "\tif file.endswith('.xlsx') or file.endswith('.xlsb') or file.endswith('.msg'): \n",
    "\t\tfile_path = f\"{path}\\{file}\"\n",
    "\t\t#print(f\"{k} : the  path is : {path}\")\n",
    "\t\t#print(f\"{k} : the  file is : {file}\")\n",
    "\n",
    "\t\t#print(file_path)\n",
    "\t\t\n",
    "\t\t"
   ]
  },
  {
   "cell_type": "code",
   "execution_count": null,
   "metadata": {},
   "outputs": [],
   "source": []
  },
  {
   "cell_type": "markdown",
   "metadata": {},
   "source": [
    "# "
   ]
  },
  {
   "cell_type": "markdown",
   "metadata": {},
   "source": [
    "# lesser time "
   ]
  },
  {
   "cell_type": "code",
   "execution_count": 4,
   "metadata": {},
   "outputs": [],
   "source": [
    "import os\n",
    "import csv\n",
    "import openpyxl\n",
    "from extract_msg import Message\n",
    "\n",
    "# Set the path to the folder containing MSG files\n",
    "folder_path = r\"C:\\Users\\Ratan Kumar Jha\\Desktop\\welcome msg\\Welcome\\july\"\n",
    "\n",
    "# Function to convert Excel files to CSV format\n",
    "def convert_to_csv(excel_file_path, csv_file_path):\n",
    "    try:\n",
    "        # Read Excel file using pandas\n",
    "        df = pd.read_excel(excel_file_path)\n",
    "        \n",
    "        # Save DataFrame to CSV\n",
    "        df.to_csv(csv_file_path, index=False)\n",
    "        print(f\"Converted {excel_file_path} to CSV successfully.\")\n",
    "    except Exception as e:\n",
    "        print(f\"Failed to convert {excel_file_path} to CSV. Error: {e}\")\n",
    "\n",
    "# Iterate through each MSG file in the folder\n",
    "for filename in os.listdir(folder_path):\n",
    "    if filename.endswith(\".msg\"):\n",
    "        msg_file_path = os.path.join(folder_path, filename)\n",
    "        \n",
    "        # Parse MSG file\n",
    "        msg = Message(msg_file_path)\n",
    "        \n",
    "        # Extract attachments\n",
    "        attachments = msg.attachments\n",
    "        \n",
    "        # Iterate through each attachment\n",
    "        for attachment in attachments:\n",
    "            attachment_name = attachment.longFilename\n",
    "            \n",
    "            # Check if attachment is an Excel file\n",
    "            if attachment_name.endswith(\".xlsx\") :\n",
    "                excel_file_path = os.path.join(folder_path, attachment_name)\n",
    "                csv_file_path = os.path.splitext(excel_file_path)[0] + \".csv\"\n",
    "                \n",
    "                # Save attachment to disk\n",
    "                with open(excel_file_path, \"wb\") as f:\n",
    "                    f.write(attachment.data)\n",
    "                \n",
    "                # Convert Excel file to CSV\n",
    "                convert_to_csv(excel_file_path, csv_file_path)\n"
   ]
  },
  {
   "cell_type": "code",
   "execution_count": null,
   "metadata": {},
   "outputs": [],
   "source": []
  },
  {
   "cell_type": "code",
   "execution_count": 2,
   "metadata": {},
   "outputs": [],
   "source": []
  },
  {
   "cell_type": "code",
   "execution_count": null,
   "metadata": {},
   "outputs": [],
   "source": [
    "# before run this code. copy data from the welcome folder month and then create a new folder with month name in WELCOME DATA EXTRACTED folder than run this code"
   ]
  },
  {
   "cell_type": "code",
   "execution_count": null,
   "metadata": {},
   "outputs": [],
   "source": []
  },
  {
   "cell_type": "markdown",
   "metadata": {},
   "source": [
    "# code for read excel file and convert into csv "
   ]
  },
  {
   "cell_type": "code",
   "execution_count": 1,
   "metadata": {},
   "outputs": [
    {
     "name": "stdout",
     "output_type": "stream",
     "text": [
      "Welcome Msg Not Sent Data_01-08-24.xlsx\n",
      "Welcome Msg Not Sent Data_05-08-24.xlsx\n",
      "Welcome Msg Not Sent Data_06-08-24.xlsx\n",
      "Welcome Msg Not Sent Data_07-08-24.xlsx\n",
      "Welcome Msg Not Sent Data_08-08-24.xlsx\n",
      "Welcome Msg Not Sent Data_09-08-24.xlsx\n",
      "Welcome Msg Not Sent Data_11-08-24.xlsx\n",
      "Welcome Msg Not Sent Data_12-08-24.xlsx\n",
      "Welcome Msg Not Sent Data_13-08-24.xlsx\n",
      "Welcome Msg Not Sent Data_15-08-24.xlsx\n",
      "Welcome Msg Not Sent Data_16-08-24.xlsx\n",
      "Welcome Msg Not Sent Data_19-08-24.xlsx\n",
      "Welcome Msg Not Sent Data_20-08-24.xlsx\n",
      "Welcome Msg Not Sent Data_21-08-24.xlsx\n",
      "Welcome Msg Not Sent Data_22-08-24.xlsx\n",
      "Welcome Msg Not Sent Data_23-08-24.xlsx\n"
     ]
    }
   ],
   "source": [
    "import pandas as pd\n",
    "\n",
    "import os\n",
    "import csv\n",
    "import openpyxl\n",
    "from extract_msg import Message\n",
    "import shutil\n",
    "\n",
    "# Set the path to the folder containing MSG files\n",
    "folder_path = r\"C:\\Users\\Ratan Kumar Jha\\Desktop\\welcome msg\\WELCOME DATA EXTRACTED\\Aug\"\n",
    "\n",
    "# -------------------------------------------------------------------------------------------------\n",
    "base_path = r'C:\\Users\\Ratan Kumar Jha\\Desktop\\welcome msg\\WELCOME_MSG_OUTPUT'\n",
    "new_folder_name = 'Aug'\n",
    "new_folder_path = os.path.join(base_path,new_folder_name)\n",
    "shutil.rmtree(new_folder_path)\n",
    "os.makedirs(new_folder_path)\n",
    "\n",
    "# -------------------------------------------------------------------------------------------------\n",
    "for filename in os.listdir(folder_path):\n",
    "    print(filename)\n",
    "    if filename.endswith(\".xlsx\"):\n",
    "        file_path_name = os.path.join(folder_path, filename)\n",
    "        read_excel_Data=pd.read_excel(file_path_name,sheet_name=1)\n",
    "        # Specify the path where CSV file should be saved\n",
    "        csv_file_path = os.path.join(new_folder_path, filename.replace(\".xlsx\", \".csv\"))\n",
    "        # Save DataFrame to CSV\n",
    "        read_excel_Data.to_csv(csv_file_path, index=False)\n",
    "        \n",
    "\n",
    "        \n",
    "\n"
   ]
  },
  {
   "cell_type": "code",
   "execution_count": null,
   "metadata": {},
   "outputs": [],
   "source": []
  },
  {
   "cell_type": "code",
   "execution_count": null,
   "metadata": {},
   "outputs": [],
   "source": []
  },
  {
   "cell_type": "markdown",
   "metadata": {},
   "source": [
    "# this code will convert excel into csv file and than concat the data into a single file"
   ]
  },
  {
   "cell_type": "code",
   "execution_count": 2,
   "metadata": {},
   "outputs": [
    {
     "name": "stdout",
     "output_type": "stream",
     "text": [
      "Welcome Msg Not Sent Data_01-08-24.xlsx\n",
      "C:\\Users\\Ratan Kumar Jha\\Desktop\\welcome msg\\WELCOME_MSG_OUTPUT\\Aug\\Welcome Msg Not Sent Data_01-08-24.csv\n",
      "Welcome Msg Not Sent Data_05-08-24.xlsx\n",
      "C:\\Users\\Ratan Kumar Jha\\Desktop\\welcome msg\\WELCOME_MSG_OUTPUT\\Aug\\Welcome Msg Not Sent Data_05-08-24.csv\n",
      "Welcome Msg Not Sent Data_06-08-24.xlsx\n",
      "C:\\Users\\Ratan Kumar Jha\\Desktop\\welcome msg\\WELCOME_MSG_OUTPUT\\Aug\\Welcome Msg Not Sent Data_06-08-24.csv\n",
      "Welcome Msg Not Sent Data_07-08-24.xlsx\n",
      "C:\\Users\\Ratan Kumar Jha\\Desktop\\welcome msg\\WELCOME_MSG_OUTPUT\\Aug\\Welcome Msg Not Sent Data_07-08-24.csv\n",
      "Welcome Msg Not Sent Data_08-08-24.xlsx\n",
      "C:\\Users\\Ratan Kumar Jha\\Desktop\\welcome msg\\WELCOME_MSG_OUTPUT\\Aug\\Welcome Msg Not Sent Data_08-08-24.csv\n",
      "Welcome Msg Not Sent Data_09-08-24.xlsx\n",
      "C:\\Users\\Ratan Kumar Jha\\Desktop\\welcome msg\\WELCOME_MSG_OUTPUT\\Aug\\Welcome Msg Not Sent Data_09-08-24.csv\n",
      "Welcome Msg Not Sent Data_11-08-24.xlsx\n",
      "C:\\Users\\Ratan Kumar Jha\\Desktop\\welcome msg\\WELCOME_MSG_OUTPUT\\Aug\\Welcome Msg Not Sent Data_11-08-24.csv\n",
      "Welcome Msg Not Sent Data_12-08-24.xlsx\n",
      "C:\\Users\\Ratan Kumar Jha\\Desktop\\welcome msg\\WELCOME_MSG_OUTPUT\\Aug\\Welcome Msg Not Sent Data_12-08-24.csv\n",
      "Welcome Msg Not Sent Data_13-08-24.xlsx\n",
      "C:\\Users\\Ratan Kumar Jha\\Desktop\\welcome msg\\WELCOME_MSG_OUTPUT\\Aug\\Welcome Msg Not Sent Data_13-08-24.csv\n",
      "Welcome Msg Not Sent Data_15-08-24.xlsx\n",
      "C:\\Users\\Ratan Kumar Jha\\Desktop\\welcome msg\\WELCOME_MSG_OUTPUT\\Aug\\Welcome Msg Not Sent Data_15-08-24.csv\n",
      "Welcome Msg Not Sent Data_16-08-24.xlsx\n",
      "C:\\Users\\Ratan Kumar Jha\\Desktop\\welcome msg\\WELCOME_MSG_OUTPUT\\Aug\\Welcome Msg Not Sent Data_16-08-24.csv\n",
      "Welcome Msg Not Sent Data_19-08-24.xlsx\n",
      "C:\\Users\\Ratan Kumar Jha\\Desktop\\welcome msg\\WELCOME_MSG_OUTPUT\\Aug\\Welcome Msg Not Sent Data_19-08-24.csv\n",
      "Welcome Msg Not Sent Data_20-08-24.xlsx\n",
      "C:\\Users\\Ratan Kumar Jha\\Desktop\\welcome msg\\WELCOME_MSG_OUTPUT\\Aug\\Welcome Msg Not Sent Data_20-08-24.csv\n",
      "Welcome Msg Not Sent Data_21-08-24.xlsx\n",
      "C:\\Users\\Ratan Kumar Jha\\Desktop\\welcome msg\\WELCOME_MSG_OUTPUT\\Aug\\Welcome Msg Not Sent Data_21-08-24.csv\n",
      "Welcome Msg Not Sent Data_22-08-24.xlsx\n",
      "C:\\Users\\Ratan Kumar Jha\\Desktop\\welcome msg\\WELCOME_MSG_OUTPUT\\Aug\\Welcome Msg Not Sent Data_22-08-24.csv\n",
      "Welcome Msg Not Sent Data_23-08-24.xlsx\n",
      "C:\\Users\\Ratan Kumar Jha\\Desktop\\welcome msg\\WELCOME_MSG_OUTPUT\\Aug\\Welcome Msg Not Sent Data_23-08-24.csv\n",
      "Concatenation completed and saved to: C:\\Users\\Ratan Kumar Jha\\Desktop\\welcome msg\\WELCOME_MSG_OUTPUT\\concatenated_data_Aug.csv\n"
     ]
    }
   ],
   "source": [
    "import os\n",
    "import csv\n",
    "import openpyxl\n",
    "from extract_msg import Message\n",
    "import shutil\n",
    "import pandas as pd\n",
    "\n",
    "# Set the path to the folder containing MSG files\n",
    "folder_path = r\"C:\\Users\\Ratan Kumar Jha\\Desktop\\welcome msg\\WELCOME DATA EXTRACTED\\Aug\"\n",
    "\n",
    "# -------------------------------------------------------------------------------------------------\n",
    "base_path = r'C:\\Users\\Ratan Kumar Jha\\Desktop\\welcome msg\\WELCOME_MSG_OUTPUT'\n",
    "new_folder_name = 'Aug'\n",
    "new_folder_path = os.path.join(base_path,new_folder_name)\n",
    "\n",
    "\n",
    "\n",
    "# Create the new folder\n",
    "if not os.path.exists(new_folder_path):\n",
    "    os.makedirs(new_folder_path)\n",
    "\n",
    "\n",
    "\n",
    "# Initialize an empty list to store DataFrames\n",
    "dfs = []\n",
    "\n",
    "\n",
    "# -------------------------------------------------------------------------------------------------\n",
    "for filename in os.listdir(folder_path):\n",
    "    print(filename)\n",
    "    if filename.endswith(\".xlsx\"):\n",
    "        file_path_name = os.path.join(folder_path, filename)\n",
    "        read_excel_Data=pd.read_excel(file_path_name,sheet_name=1)\n",
    "        # Specify the path where CSV file should be saved\n",
    "        csv_file_path = os.path.join(new_folder_path, filename.replace(\".xlsx\", \".csv\"))\n",
    "        # Save DataFrame to CSV\n",
    "        print(csv_file_path)\n",
    "        read_excel_Data.to_csv(csv_file_path, index=False)\n",
    "        dfs.append(read_excel_Data)\n",
    "\n",
    "\n",
    "        \n",
    "# Concatenate all DataFrames in the list along the rows\n",
    "concatenated_df = pd.concat(dfs, ignore_index=True)\n",
    "\n",
    "# Specify the path where the concatenated CSV file should be saved\n",
    "output_csv_path = os.path.join(base_path, \"concatenated_data_Aug.csv\")\n",
    "\n",
    "# Save the concatenated DataFrame to a CSV file\n",
    "concatenated_df.to_csv(output_csv_path, index=False)\n",
    "\n",
    "print(\"Concatenation completed and saved to:\", output_csv_path)\n",
    "\n"
   ]
  },
  {
   "cell_type": "code",
   "execution_count": null,
   "metadata": {},
   "outputs": [],
   "source": []
  },
  {
   "cell_type": "code",
   "execution_count": null,
   "metadata": {},
   "outputs": [],
   "source": []
  },
  {
   "cell_type": "markdown",
   "metadata": {},
   "source": [
    "# end"
   ]
  },
  {
   "cell_type": "code",
   "execution_count": null,
   "metadata": {},
   "outputs": [],
   "source": [
    "import os\n",
    "import pandas as pd\n",
    "import shutil\n",
    "\n",
    "# Set the path to the folder containing MSG files\n",
    "folder_path = r\"C:\\Users\\Ratan Kumar Jha\\Desktop\\welcome msg\\WELCOME DATA EXTRACTED\\March\"\n",
    "\n",
    "# Set the base path for new folder creation\n",
    "base_path = r'C:\\Users\\Ratan Kumar Jha\\Desktop\\welcome msg\\WELCOME_MSG_OUTPUT'\n",
    "new_folder_name = 'March'\n",
    "new_folder_path = os.path.join(base_path, new_folder_name)\n",
    "\n",
    "# Create the new folder\n",
    "if not os.path.exists(new_folder_path):\n",
    "    os.makedirs(new_folder_path)\n",
    "\n",
    "# Initialize an empty list to store DataFrames\n",
    "dfs = []\n",
    "\n",
    "# Iterate through files in the folder\n",
    "for filename in os.listdir(folder_path):\n",
    "    if filename.endswith(\".xlsx\"):\n",
    "        file_path_name = os.path.join(folder_path, filename)\n",
    "        # Read the second sheet of the Excel file into DataFrame\n",
    "        read_excel_Data = pd.read_excel(file_path_name, sheet_name=1)  # Assuming you want to read the second sheet\n",
    "        # Specify the path where CSV file should be saved\n",
    "        csv_file_path = os.path.join(new_folder_path, filename.replace(\".xlsx\", \".csv\"))\n",
    "        # Save DataFrame to CSV\n",
    "        read_excel_Data.to_csv(csv_file_path, index=False)\n",
    "        # Append DataFrame to the list\n",
    "        dfs.append(read_excel_Data)\n",
    "\n",
    "# Concatenate all DataFrames in the list along the rows\n",
    "concatenated_df = pd.concat(dfs, ignore_index=True)\n",
    "\n",
    "# Specify the path where the concatenated CSV file should be saved\n",
    "output_csv_path = os.path.join(base_path, \"concatenated_data.csv\")\n",
    "\n",
    "# Save the concatenated DataFrame to a CSV file\n",
    "concatenated_df.to_csv(output_csv_path, index=False)\n",
    "\n",
    "print(\"Concatenation completed and saved to:\", output_csv_path)\n"
   ]
  }
 ],
 "metadata": {
  "kernelspec": {
   "display_name": "Python 3",
   "language": "python",
   "name": "python3"
  },
  "language_info": {
   "codemirror_mode": {
    "name": "ipython",
    "version": 3
   },
   "file_extension": ".py",
   "mimetype": "text/x-python",
   "name": "python",
   "nbconvert_exporter": "python",
   "pygments_lexer": "ipython3",
   "version": "3.9.19"
  }
 },
 "nbformat": 4,
 "nbformat_minor": 2
}
